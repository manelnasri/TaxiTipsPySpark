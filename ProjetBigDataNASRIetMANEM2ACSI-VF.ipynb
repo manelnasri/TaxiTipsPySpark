{
 "cells": [
  {
   "cell_type": "markdown",
   "id": "49f5a70d-85b6-4b1b-8bde-73553426ab9f",
   "metadata": {},
   "source": [
    "# Rendu Projet BigData Manel NASRI & Mariama MANE MASTER2 ACSI"
   ]
  },
  {
   "cell_type": "markdown",
   "id": "7560b3f5-afef-4d99-ad12-6de48534afdf",
   "metadata": {},
   "source": [
    "# Description du projet"
   ]
  },
  {
   "cell_type": "markdown",
   "id": "5e8dfedc-a178-45dc-850b-6b0ac86809ec",
   "metadata": {},
   "source": [
    "L'objectif de ce projet, en utilisant ce dataset, est de savoir quelles sont les zones de New York dans lesquelles il est intéressant pour un chauffeur de taxi de se rendre afin d'obtenir le plus gros pourboire.\n",
    "\n",
    "le projet se déroule sur trois étape:\n",
    "\n",
    "- Analyse exploratoire des données\n",
    "- Nettoyage des données\n",
    "- Fouille des données en utilisant un algorithme de clustering Kmeans"
   ]
  },
  {
   "cell_type": "markdown",
   "id": "002509c2-1b23-469b-9711-8c88a97b03af",
   "metadata": {},
   "source": [
    "# Etape I : Analyse exploratoire des données¶"
   ]
  },
  {
   "cell_type": "markdown",
   "id": "a205ceba-a3ba-4e44-9e40-472dfa9041bf",
   "metadata": {},
   "source": [
    "Dans ce script, nous réalisons une analyse exploratoire des données de deux fichiers Fares et Rides afin d’analyser \n",
    "les jeux de données, afficher les contenus des fichiers, les types des différentes données et aussi afin de pouvoir \n",
    "faire un premier diagnostic sur les données"
   ]
  },
  {
   "cell_type": "markdown",
   "id": "82c9f5a2-884c-41b0-910f-65edd9613fe7",
   "metadata": {},
   "source": [
    "### Nous commençons par importer les librairies necessaires"
   ]
  },
  {
   "cell_type": "code",
   "execution_count": 1,
   "id": "eb27d86b-d72e-46b3-a386-9cf822e20d46",
   "metadata": {},
   "outputs": [],
   "source": [
    "from pyspark.ml.feature import VectorAssembler, OneHotEncoder, StringIndexer\n",
    "from pyspark.ml.classification import LogisticRegression, LogisticRegressionModel\n",
    "from pyspark.ml import Pipeline, PipelineModel\n",
    "from pyspark.mllib.evaluation import MulticlassMetrics\n",
    "from pyspark.ml.tuning import CrossValidator, ParamGridBuilder\n",
    "from pyspark.ml.evaluation import BinaryClassificationEvaluator\n",
    "from pyspark.sql import SparkSession\n",
    "from numpy import *\n",
    "import numpy as np # linear algebra\n",
    "import pandas as pd # CSV file I/O (e.g. pd.read_cs)"
   ]
  },
  {
   "cell_type": "code",
   "execution_count": 3,
   "id": "4245fd3b-ce2a-453c-8e23-2e195d8cc53d",
   "metadata": {},
   "outputs": [],
   "source": [
    "spark = (SparkSession.builder\n",
    ".master('local[2]')\n",
    ".appName('ProjetBigdata')\n",
    ".getOrCreate())"
   ]
  },
  {
   "cell_type": "markdown",
   "id": "51fd7ba6-2a05-4774-8fd1-9b7240a06460",
   "metadata": {},
   "source": [
    "# 1. Import des données\n",
    "### Import fichier \"Fares\""
   ]
  },
  {
   "cell_type": "code",
   "execution_count": 4,
   "id": "f163634f-bea3-4ccf-9eef-8cfa2bc07b9a",
   "metadata": {},
   "outputs": [],
   "source": [
    "###################################################\n",
    "#############Fares#################################\n",
    "###################################################"
   ]
  },
  {
   "cell_type": "code",
   "execution_count": 5,
   "id": "bf180796-b866-4af0-b66a-4731eee8dd9c",
   "metadata": {},
   "outputs": [
    {
     "name": "stderr",
     "output_type": "stream",
     "text": [
      "22/03/26 09:27:39 WARN CSVHeaderChecker: CSV header does not conform to the schema.\n",
      " Header: 1, 2013000001, 2013000001, 2013-01-01 00:00:00, CSH, 0, 0, 21.5\n",
      " Schema: 1, 20130000011, 20130000012, 2013-01-01 00:00:00, CSH, 05, 06, 21.5\n",
      "Expected: 20130000011 but found: 2013000001\n",
      "CSV file: file:///home/jovyan/nycTaxiFares.csv\n"
     ]
    },
    {
     "name": "stdout",
     "output_type": "stream",
     "text": [
      "+---+-----------+-----------+-------------------+---+----+---+-----+\n",
      "|  1|20130000011|20130000012|2013-01-01 00:00:00|CSH|  05| 06| 21.5|\n",
      "+---+-----------+-----------+-------------------+---+----+---+-----+\n",
      "|  2| 2013000002| 2013000002|2013-01-01 00:00:00|CSH| 0.0|0.0|  7.0|\n",
      "|  3| 2013000003| 2013000003|2013-01-01 00:00:00|CRD| 2.2|0.0| 13.7|\n",
      "|  4| 2013000004| 2013000004|2013-01-01 00:00:00|CRD| 1.7|0.0| 10.7|\n",
      "|  5| 2013000005| 2013000005|2013-01-01 00:00:00|CRD|4.65|0.0|20.15|\n",
      "|  6| 2013000006| 2013000006|2013-01-01 00:00:00|CSH| 0.0|4.8| 34.3|\n",
      "|  7| 2013000007| 2013000007|2013-01-01 00:00:00|CRD| 1.9|0.0| 11.9|\n",
      "|  8| 2013000008| 2013000008|2013-01-01 00:00:00|CSH| 0.0|0.0|  6.0|\n",
      "|  9| 2013000009| 2013000009|2013-01-01 00:00:00|CRD| 1.0|0.0|  6.0|\n",
      "| 10| 2013000010| 2013000010|2013-01-01 00:00:00|CSH| 0.0|0.0| 15.5|\n",
      "| 11| 2013000011| 2013000011|2013-01-01 00:00:00|CRD| 4.7|0.0| 28.7|\n",
      "| 12| 2013000012| 2013000012|2013-01-01 00:00:00|CRD| 4.0|0.0| 30.5|\n",
      "| 13| 2013000013| 2013000013|2013-01-01 00:00:00|CRD| 3.0|0.0| 17.0|\n",
      "| 14| 2013000014| 2013000014|2013-01-01 00:00:00|CRD|1.65|0.0| 7.65|\n",
      "| 15| 2013000015| 2013000015|2013-01-01 00:00:00|CSH| 0.0|0.0|  7.0|\n",
      "| 16| 2013000016| 2013000016|2013-01-01 00:00:00|CRD| 2.0|0.0| 12.5|\n",
      "| 17| 2013000017| 2013000017|2013-01-01 00:00:00|CRD|1.88|0.0| 9.88|\n",
      "| 18| 2013000018| 2013000018|2013-01-01 00:00:00|CRD| 2.0|0.0| 10.0|\n",
      "| 19| 2013000019| 2013000019|2013-01-01 00:00:00|NOC| 0.0|0.0| 17.5|\n",
      "| 20| 2013000020| 2013000020|2013-01-01 00:00:00|CSH| 0.0|0.0|  5.5|\n",
      "| 21| 2013000021| 2013000021|2013-01-01 00:00:00|CRD| 1.7|0.0| 10.7|\n",
      "+---+-----------+-----------+-------------------+---+----+---+-----+\n",
      "only showing top 20 rows\n",
      "\n"
     ]
    }
   ],
   "source": [
    "dataFares = spark.read.options(header='True', inferSchema='True').format(\"csv\").load(\"nycTaxiFares.csv\")\n",
    "#dataFares = spark.read.options(header='True', inferSchema='True').format(\"csv\").load(\"data1.csv\")\n",
    "# visualier le dataframe\n",
    "dataFares.show()"
   ]
  },
  {
   "cell_type": "code",
   "execution_count": 6,
   "id": "2e1a3768-f32b-4bce-8344-65dcaf310071",
   "metadata": {},
   "outputs": [
    {
     "name": "stdout",
     "output_type": "stream",
     "text": [
      "root\n",
      " |-- 1: integer (nullable = true)\n",
      " |-- 20130000011: integer (nullable = true)\n",
      " |-- 20130000012: integer (nullable = true)\n",
      " |-- 2013-01-01 00:00:00: string (nullable = true)\n",
      " |-- CSH: string (nullable = true)\n",
      " |-- 05: double (nullable = true)\n",
      " |-- 06: double (nullable = true)\n",
      " |-- 21.5: double (nullable = true)\n",
      "\n"
     ]
    }
   ],
   "source": [
    "dataFares.printSchema()"
   ]
  },
  {
   "cell_type": "markdown",
   "id": "3d6d54ab-e230-4c1b-8ab5-098be8e69ab1",
   "metadata": {},
   "source": [
    "### Import fichier \"Rides\""
   ]
  },
  {
   "cell_type": "code",
   "execution_count": 7,
   "id": "c14cca23-db7a-47a3-970d-25b1893c451a",
   "metadata": {},
   "outputs": [],
   "source": [
    "###################################################\n",
    "#############Rides#################################\n",
    "###################################################"
   ]
  },
  {
   "cell_type": "code",
   "execution_count": 8,
   "id": "24c17b71-4091-4743-b62c-040f90c27c9f",
   "metadata": {},
   "outputs": [
    {
     "name": "stderr",
     "output_type": "stream",
     "text": [
      "                                                                                \r"
     ]
    },
    {
     "name": "stdout",
     "output_type": "stream",
     "text": [
      "+---+-----+-------------------+-------------------+----------+---------+----------+---------+---+-----------+------------+\n",
      "| 60|START|2013-01-01 00:00:00|1970-01-01 00:00:00|-73.866135|40.771091|-73.961334|40.764912| 68|20130000069|201300000610|\n",
      "+---+-----+-------------------+-------------------+----------+---------+----------+---------+---+-----------+------------+\n",
      "| 11|START|2013-01-01 00:00:00|1970-01-01 00:00:00|-73.870834|40.773769|-73.792358|40.771759|  1| 2013000011|  2013000011|\n",
      "| 55|START|2013-01-01 00:00:00|1970-01-01 00:00:00| -73.87117|40.773914|-73.805054| 40.68121|  1| 2013000055|  2013000055|\n",
      "| 31|START|2013-01-01 00:00:00|1970-01-01 00:00:00|-73.929344|40.807728|-73.979935|40.740757|  2| 2013000031|  2013000031|\n",
      "| 34|START|2013-01-01 00:00:00|1970-01-01 00:00:00|-73.934555|40.750957|-73.916328|40.762241|  5| 2013000034|  2013000034|\n",
      "| 43|START|2013-01-01 00:00:00|1970-01-01 00:00:00|-73.946136|40.781349|-73.944977|40.790836|  1| 2013000043|  2013000043|\n",
      "| 54|START|2013-01-01 00:00:00|1970-01-01 00:00:00|-73.951073|40.778755|-73.816467| 40.73904|  1| 2013000054|  2013000054|\n",
      "| 15|START|2013-01-01 00:00:00|1970-01-01 00:00:00|-73.954117|40.778343|-73.941818|40.795479|  2| 2013000015|  2013000015|\n",
      "| 48|START|2013-01-01 00:00:00|1970-01-01 00:00:00|-73.955383|40.779728|-73.967758|40.760326|  1| 2013000048|  2013000048|\n",
      "|  8|START|2013-01-01 00:00:00|1970-01-01 00:00:00|-73.955925|40.781887|-73.963181|40.777832|  3| 2013000008|  2013000008|\n",
      "| 53|START|2013-01-01 00:00:00|1970-01-01 00:00:00|-73.956528|40.716976| -73.96244|40.715008|  1| 2013000053|  2013000053|\n",
      "| 29|START|2013-01-01 00:00:00|1970-01-01 00:00:00|-73.969841|40.797359|-73.961899|40.812466|  1| 2013000029|  2013000029|\n",
      "| 46|START|2013-01-01 00:00:00|1970-01-01 00:00:00|-73.970207|40.762054|-73.938873|40.842186|  5| 2013000046|  2013000046|\n",
      "| 32|START|2013-01-01 00:00:00|1970-01-01 00:00:00|-73.970428|40.796532|-73.970428|40.796532|  1| 2013000032|  2013000032|\n",
      "| 22|START|2013-01-01 00:00:00|1970-01-01 00:00:00|-73.970512|40.794228| -74.29879|40.987392|  2| 2013000022|  2013000022|\n",
      "| 44|START|2013-01-01 00:00:00|1970-01-01 00:00:00|   -73.973| 40.79314|-73.981453|40.778465|  1| 2013000044|  2013000044|\n",
      "| 26|START|2013-01-01 00:00:00|1970-01-01 00:00:00|-73.973907|40.747868|-73.948898|40.776649|  5| 2013000026|  2013000026|\n",
      "| 57|START|2013-01-01 00:00:00|1970-01-01 00:00:00|-73.975723|40.781693|-73.969147|40.760975|  1| 2013000057|  2013000057|\n",
      "| 13|START|2013-01-01 00:00:00|1970-01-01 00:00:00|-73.976761| 40.75919|-73.940315|   40.799|  1| 2013000013|  2013000013|\n",
      "| 45|START|2013-01-01 00:00:00|1970-01-01 00:00:00|-73.977318|40.758751|-73.971481|40.752132|  5| 2013000045|  2013000045|\n",
      "| 56|START|2013-01-01 00:00:00|1970-01-01 00:00:00|-73.978142| 40.75153|-74.003105|40.732994|  5| 2013000056|  2013000056|\n",
      "+---+-----+-------------------+-------------------+----------+---------+----------+---------+---+-----------+------------+\n",
      "only showing top 20 rows\n",
      "\n"
     ]
    },
    {
     "name": "stderr",
     "output_type": "stream",
     "text": [
      "22/03/26 09:28:10 WARN CSVHeaderChecker: CSV header does not conform to the schema.\n",
      " Header: 6, START, 2013-01-01 00:00:00, 1970-01-01 00:00:00, -73.866135, 40.771091, -73.961334, 40.764912, 6, 2013000006, 2013000006\n",
      " Schema: 60, START, 2013-01-01 00:00:00, 1970-01-01 00:00:00, -73.866135, 40.771091, -73.961334, 40.764912, 68, 20130000069, 201300000610\n",
      "Expected: 60 but found: 6\n",
      "CSV file: file:///home/jovyan/nycTaxiRides.csv\n"
     ]
    }
   ],
   "source": [
    "dataRides = spark.read.options(header='True', inferSchema='True').format(\"csv\").load(\"nycTaxiRides.csv\")\n",
    "#dataRides = spark.read.options(header='True', inferSchema='True').format(\"csv\").load(\"data2.csv\")\n",
    "dataRides.show()"
   ]
  },
  {
   "cell_type": "code",
   "execution_count": 9,
   "id": "f7085649-4551-4618-b904-41f4a9ef0b6e",
   "metadata": {},
   "outputs": [
    {
     "name": "stdout",
     "output_type": "stream",
     "text": [
      "root\n",
      " |-- 60: integer (nullable = true)\n",
      " |-- START: string (nullable = true)\n",
      " |-- 2013-01-01 00:00:00: string (nullable = true)\n",
      " |-- 1970-01-01 00:00:00: string (nullable = true)\n",
      " |-- -73.866135: double (nullable = true)\n",
      " |-- 40.771091: double (nullable = true)\n",
      " |-- -73.961334: double (nullable = true)\n",
      " |-- 40.764912: double (nullable = true)\n",
      " |-- 68: integer (nullable = true)\n",
      " |-- 20130000069: integer (nullable = true)\n",
      " |-- 201300000610: integer (nullable = true)\n",
      "\n"
     ]
    }
   ],
   "source": [
    "dataRides.printSchema()"
   ]
  },
  {
   "cell_type": "markdown",
   "id": "acf0d783-9355-4121-a30e-605dea0744d9",
   "metadata": {},
   "source": [
    "Après avoir téléchargé les fichiers, nous avons constaté que les deux fichiers ne contiennet pas des entêtes,\n",
    "la raison pour laquelle nous allons ajouter les entêtes pour les deux fichiers"
   ]
  },
  {
   "cell_type": "markdown",
   "id": "73efbbc4-4a0b-44e4-92a9-54daf1c53a46",
   "metadata": {},
   "source": [
    "### Ajout des entêtes pour les deux fichiers"
   ]
  },
  {
   "cell_type": "code",
   "execution_count": 10,
   "id": "9e03c277-6f1f-44b9-926d-db8afb68c328",
   "metadata": {},
   "outputs": [],
   "source": [
    "###################################################\n",
    "#############Fares#################################\n",
    "###################################################"
   ]
  },
  {
   "cell_type": "code",
   "execution_count": 11,
   "id": "1b05202d-50ef-4552-81f3-6cea70e5de5d",
   "metadata": {},
   "outputs": [
    {
     "name": "stdout",
     "output_type": "stream",
     "text": [
      "+------+----------+----------+-------------------+-----------+----+-----+---------+\n",
      "|rideId|    taxiId|  driverId|          startTime|paymentType| tip|tolls|totalFare|\n",
      "+------+----------+----------+-------------------+-----------+----+-----+---------+\n",
      "|     2|2013000002|2013000002|2013-01-01 00:00:00|        CSH| 0.0|  0.0|      7.0|\n",
      "|     3|2013000003|2013000003|2013-01-01 00:00:00|        CRD| 2.2|  0.0|     13.7|\n",
      "|     4|2013000004|2013000004|2013-01-01 00:00:00|        CRD| 1.7|  0.0|     10.7|\n",
      "|     5|2013000005|2013000005|2013-01-01 00:00:00|        CRD|4.65|  0.0|    20.15|\n",
      "|     6|2013000006|2013000006|2013-01-01 00:00:00|        CSH| 0.0|  4.8|     34.3|\n",
      "|     7|2013000007|2013000007|2013-01-01 00:00:00|        CRD| 1.9|  0.0|     11.9|\n",
      "|     8|2013000008|2013000008|2013-01-01 00:00:00|        CSH| 0.0|  0.0|      6.0|\n",
      "|     9|2013000009|2013000009|2013-01-01 00:00:00|        CRD| 1.0|  0.0|      6.0|\n",
      "|    10|2013000010|2013000010|2013-01-01 00:00:00|        CSH| 0.0|  0.0|     15.5|\n",
      "|    11|2013000011|2013000011|2013-01-01 00:00:00|        CRD| 4.7|  0.0|     28.7|\n",
      "|    12|2013000012|2013000012|2013-01-01 00:00:00|        CRD| 4.0|  0.0|     30.5|\n",
      "|    13|2013000013|2013000013|2013-01-01 00:00:00|        CRD| 3.0|  0.0|     17.0|\n",
      "|    14|2013000014|2013000014|2013-01-01 00:00:00|        CRD|1.65|  0.0|     7.65|\n",
      "|    15|2013000015|2013000015|2013-01-01 00:00:00|        CSH| 0.0|  0.0|      7.0|\n",
      "|    16|2013000016|2013000016|2013-01-01 00:00:00|        CRD| 2.0|  0.0|     12.5|\n",
      "|    17|2013000017|2013000017|2013-01-01 00:00:00|        CRD|1.88|  0.0|     9.88|\n",
      "|    18|2013000018|2013000018|2013-01-01 00:00:00|        CRD| 2.0|  0.0|     10.0|\n",
      "|    19|2013000019|2013000019|2013-01-01 00:00:00|        NOC| 0.0|  0.0|     17.5|\n",
      "|    20|2013000020|2013000020|2013-01-01 00:00:00|        CSH| 0.0|  0.0|      5.5|\n",
      "|    21|2013000021|2013000021|2013-01-01 00:00:00|        CRD| 1.7|  0.0|     10.7|\n",
      "+------+----------+----------+-------------------+-----------+----+-----+---------+\n",
      "only showing top 20 rows\n",
      "\n"
     ]
    },
    {
     "name": "stderr",
     "output_type": "stream",
     "text": [
      "22/03/26 09:28:28 WARN CSVHeaderChecker: CSV header does not conform to the schema.\n",
      " Header: 1, 2013000001, 2013000001, 2013-01-01 00:00:00, CSH, 0, 0, 21.5\n",
      " Schema: 1, 20130000011, 20130000012, 2013-01-01 00:00:00, CSH, 05, 06, 21.5\n",
      "Expected: 20130000011 but found: 2013000001\n",
      "CSV file: file:///home/jovyan/nycTaxiFares.csv\n"
     ]
    }
   ],
   "source": [
    "dtfares=dataFares.toDF('rideId', 'taxiId', 'driverId', 'startTime', 'paymentType', 'tip', 'tolls', 'totalFare')  \n",
    "dtfares.show()"
   ]
  },
  {
   "cell_type": "markdown",
   "id": "2e68fbb4-cba4-4f5a-a9c7-97f836fd21f5",
   "metadata": {},
   "source": [
    "## Afficher le schéma de données du fichier Fares après avoir ajouté les entêtes:"
   ]
  },
  {
   "cell_type": "code",
   "execution_count": 12,
   "id": "f4c4f276-5005-4c5e-91c8-1f30e1f1dc16",
   "metadata": {},
   "outputs": [
    {
     "name": "stdout",
     "output_type": "stream",
     "text": [
      "root\n",
      " |-- rideId: integer (nullable = true)\n",
      " |-- taxiId: integer (nullable = true)\n",
      " |-- driverId: integer (nullable = true)\n",
      " |-- startTime: string (nullable = true)\n",
      " |-- paymentType: string (nullable = true)\n",
      " |-- tip: double (nullable = true)\n",
      " |-- tolls: double (nullable = true)\n",
      " |-- totalFare: double (nullable = true)\n",
      "\n"
     ]
    }
   ],
   "source": [
    "dtfares.printSchema()"
   ]
  },
  {
   "cell_type": "markdown",
   "id": "0fa243de-0a8a-432f-93cd-60787ae0a115",
   "metadata": {},
   "source": [
    "Après avoir affiché le schéma de données du fichier Fares: nous avons eu connaissances des colonnes ainsi que leurs types "
   ]
  },
  {
   "cell_type": "code",
   "execution_count": 13,
   "id": "b44d2f25-ba4f-4321-b3eb-217e33436080",
   "metadata": {},
   "outputs": [],
   "source": [
    "###################################################\n",
    "#############Rides#################################\n",
    "###################################################"
   ]
  },
  {
   "cell_type": "code",
   "execution_count": 14,
   "id": "5b13553b-2382-4f3a-8585-aed6351d4492",
   "metadata": {},
   "outputs": [
    {
     "name": "stdout",
     "output_type": "stream",
     "text": [
      "+------+------+-------------------+-------------------+----------+---------+----------+---------+--------------+----------+----------+\n",
      "|rideId|status|            endTime|          startTime|  startLon| startLat|    endLon|   endLat|passengerCount|    taxiId|  driverId|\n",
      "+------+------+-------------------+-------------------+----------+---------+----------+---------+--------------+----------+----------+\n",
      "|    11| START|2013-01-01 00:00:00|1970-01-01 00:00:00|-73.870834|40.773769|-73.792358|40.771759|             1|2013000011|2013000011|\n",
      "|    55| START|2013-01-01 00:00:00|1970-01-01 00:00:00| -73.87117|40.773914|-73.805054| 40.68121|             1|2013000055|2013000055|\n",
      "|    31| START|2013-01-01 00:00:00|1970-01-01 00:00:00|-73.929344|40.807728|-73.979935|40.740757|             2|2013000031|2013000031|\n",
      "|    34| START|2013-01-01 00:00:00|1970-01-01 00:00:00|-73.934555|40.750957|-73.916328|40.762241|             5|2013000034|2013000034|\n",
      "|    43| START|2013-01-01 00:00:00|1970-01-01 00:00:00|-73.946136|40.781349|-73.944977|40.790836|             1|2013000043|2013000043|\n",
      "|    54| START|2013-01-01 00:00:00|1970-01-01 00:00:00|-73.951073|40.778755|-73.816467| 40.73904|             1|2013000054|2013000054|\n",
      "|    15| START|2013-01-01 00:00:00|1970-01-01 00:00:00|-73.954117|40.778343|-73.941818|40.795479|             2|2013000015|2013000015|\n",
      "|    48| START|2013-01-01 00:00:00|1970-01-01 00:00:00|-73.955383|40.779728|-73.967758|40.760326|             1|2013000048|2013000048|\n",
      "|     8| START|2013-01-01 00:00:00|1970-01-01 00:00:00|-73.955925|40.781887|-73.963181|40.777832|             3|2013000008|2013000008|\n",
      "|    53| START|2013-01-01 00:00:00|1970-01-01 00:00:00|-73.956528|40.716976| -73.96244|40.715008|             1|2013000053|2013000053|\n",
      "|    29| START|2013-01-01 00:00:00|1970-01-01 00:00:00|-73.969841|40.797359|-73.961899|40.812466|             1|2013000029|2013000029|\n",
      "|    46| START|2013-01-01 00:00:00|1970-01-01 00:00:00|-73.970207|40.762054|-73.938873|40.842186|             5|2013000046|2013000046|\n",
      "|    32| START|2013-01-01 00:00:00|1970-01-01 00:00:00|-73.970428|40.796532|-73.970428|40.796532|             1|2013000032|2013000032|\n",
      "|    22| START|2013-01-01 00:00:00|1970-01-01 00:00:00|-73.970512|40.794228| -74.29879|40.987392|             2|2013000022|2013000022|\n",
      "|    44| START|2013-01-01 00:00:00|1970-01-01 00:00:00|   -73.973| 40.79314|-73.981453|40.778465|             1|2013000044|2013000044|\n",
      "|    26| START|2013-01-01 00:00:00|1970-01-01 00:00:00|-73.973907|40.747868|-73.948898|40.776649|             5|2013000026|2013000026|\n",
      "|    57| START|2013-01-01 00:00:00|1970-01-01 00:00:00|-73.975723|40.781693|-73.969147|40.760975|             1|2013000057|2013000057|\n",
      "|    13| START|2013-01-01 00:00:00|1970-01-01 00:00:00|-73.976761| 40.75919|-73.940315|   40.799|             1|2013000013|2013000013|\n",
      "|    45| START|2013-01-01 00:00:00|1970-01-01 00:00:00|-73.977318|40.758751|-73.971481|40.752132|             5|2013000045|2013000045|\n",
      "|    56| START|2013-01-01 00:00:00|1970-01-01 00:00:00|-73.978142| 40.75153|-74.003105|40.732994|             5|2013000056|2013000056|\n",
      "+------+------+-------------------+-------------------+----------+---------+----------+---------+--------------+----------+----------+\n",
      "only showing top 20 rows\n",
      "\n"
     ]
    },
    {
     "name": "stderr",
     "output_type": "stream",
     "text": [
      "22/03/26 09:28:40 WARN CSVHeaderChecker: CSV header does not conform to the schema.\n",
      " Header: 6, START, 2013-01-01 00:00:00, 1970-01-01 00:00:00, -73.866135, 40.771091, -73.961334, 40.764912, 6, 2013000006, 2013000006\n",
      " Schema: 60, START, 2013-01-01 00:00:00, 1970-01-01 00:00:00, -73.866135, 40.771091, -73.961334, 40.764912, 68, 20130000069, 201300000610\n",
      "Expected: 60 but found: 6\n",
      "CSV file: file:///home/jovyan/nycTaxiRides.csv\n"
     ]
    }
   ],
   "source": [
    "dtRides= dataRides .toDF('rideId', 'status', 'endTime', 'startTime', 'startLon', 'startLat', 'endLon', 'endLat', 'passengerCount', 'taxiId', 'driverId')  \n",
    "dtRides.show()"
   ]
  },
  {
   "cell_type": "markdown",
   "id": "46465909-f5e6-4375-99dd-a8c841eaf533",
   "metadata": {},
   "source": [
    "## Afficher le schéma de données du fichier Rides après avoir ajouté les entêtes:"
   ]
  },
  {
   "cell_type": "code",
   "execution_count": 15,
   "id": "ef0853f5-dcee-4a89-9077-b8f9862d88a7",
   "metadata": {},
   "outputs": [
    {
     "name": "stdout",
     "output_type": "stream",
     "text": [
      "root\n",
      " |-- rideId: integer (nullable = true)\n",
      " |-- status: string (nullable = true)\n",
      " |-- endTime: string (nullable = true)\n",
      " |-- startTime: string (nullable = true)\n",
      " |-- startLon: double (nullable = true)\n",
      " |-- startLat: double (nullable = true)\n",
      " |-- endLon: double (nullable = true)\n",
      " |-- endLat: double (nullable = true)\n",
      " |-- passengerCount: integer (nullable = true)\n",
      " |-- taxiId: integer (nullable = true)\n",
      " |-- driverId: integer (nullable = true)\n",
      "\n"
     ]
    }
   ],
   "source": [
    "dtRides.printSchema()"
   ]
  },
  {
   "cell_type": "markdown",
   "id": "a690bf67-6f13-4e56-8291-a7fbaff9caf3",
   "metadata": {},
   "source": [
    "Après avoir affiché le schéma de données du fichier Rides: nous avons eu connaissances des colonnes ainsi que leurs types "
   ]
  },
  {
   "cell_type": "markdown",
   "id": "ba3aa3f2-a797-43c3-b72a-de5e9706bd0a",
   "metadata": {},
   "source": [
    "# 2. Visualisation de la table"
   ]
  },
  {
   "cell_type": "markdown",
   "id": "c1bfaf45-7055-4646-8988-f74cd4193137",
   "metadata": {},
   "source": [
    "### Nous allons afficher les données pour les analyses: type, taille, nombre de colonnes"
   ]
  },
  {
   "cell_type": "code",
   "execution_count": 16,
   "id": "8ad8c597-e555-46ab-8a47-f8d7623abf16",
   "metadata": {},
   "outputs": [],
   "source": [
    "###################################################\n",
    "#############Fares#################################\n",
    "###################################################"
   ]
  },
  {
   "cell_type": "code",
   "execution_count": 17,
   "id": "aa32a6f4-663a-411d-ac6c-d08da8b7558c",
   "metadata": {},
   "outputs": [
    {
     "name": "stderr",
     "output_type": "stream",
     "text": [
      "22/03/26 09:28:54 WARN CSVHeaderChecker: CSV header does not conform to the schema.\n",
      " Header: 1, 2013000001, 2013000001, 2013-01-01 00:00:00, CSH, 0, 0, 21.5\n",
      " Schema: 1, 20130000011, 20130000012, 2013-01-01 00:00:00, CSH, 05, 06, 21.5\n",
      "Expected: 20130000011 but found: 2013000001\n",
      "CSV file: file:///home/jovyan/nycTaxiFares.csv\n",
      "[Stage 8:>                                                          (0 + 1) / 1]\r"
     ]
    },
    {
     "name": "stdout",
     "output_type": "stream",
     "text": [
      "+------+----------+----------+-------------------+-----------+----+-----+---------+\n",
      "|rideId|    taxiId|  driverId|          startTime|paymentType| tip|tolls|totalFare|\n",
      "+------+----------+----------+-------------------+-----------+----+-----+---------+\n",
      "|     2|2013000002|2013000002|2013-01-01 00:00:00|        CSH| 0.0|  0.0|      7.0|\n",
      "|     3|2013000003|2013000003|2013-01-01 00:00:00|        CRD| 2.2|  0.0|     13.7|\n",
      "|     4|2013000004|2013000004|2013-01-01 00:00:00|        CRD| 1.7|  0.0|     10.7|\n",
      "|     5|2013000005|2013000005|2013-01-01 00:00:00|        CRD|4.65|  0.0|    20.15|\n",
      "|     6|2013000006|2013000006|2013-01-01 00:00:00|        CSH| 0.0|  4.8|     34.3|\n",
      "|     7|2013000007|2013000007|2013-01-01 00:00:00|        CRD| 1.9|  0.0|     11.9|\n",
      "|     8|2013000008|2013000008|2013-01-01 00:00:00|        CSH| 0.0|  0.0|      6.0|\n",
      "|     9|2013000009|2013000009|2013-01-01 00:00:00|        CRD| 1.0|  0.0|      6.0|\n",
      "|    10|2013000010|2013000010|2013-01-01 00:00:00|        CSH| 0.0|  0.0|     15.5|\n",
      "|    11|2013000011|2013000011|2013-01-01 00:00:00|        CRD| 4.7|  0.0|     28.7|\n",
      "|    12|2013000012|2013000012|2013-01-01 00:00:00|        CRD| 4.0|  0.0|     30.5|\n",
      "|    13|2013000013|2013000013|2013-01-01 00:00:00|        CRD| 3.0|  0.0|     17.0|\n",
      "|    14|2013000014|2013000014|2013-01-01 00:00:00|        CRD|1.65|  0.0|     7.65|\n",
      "|    15|2013000015|2013000015|2013-01-01 00:00:00|        CSH| 0.0|  0.0|      7.0|\n",
      "|    16|2013000016|2013000016|2013-01-01 00:00:00|        CRD| 2.0|  0.0|     12.5|\n",
      "|    17|2013000017|2013000017|2013-01-01 00:00:00|        CRD|1.88|  0.0|     9.88|\n",
      "|    18|2013000018|2013000018|2013-01-01 00:00:00|        CRD| 2.0|  0.0|     10.0|\n",
      "|    19|2013000019|2013000019|2013-01-01 00:00:00|        NOC| 0.0|  0.0|     17.5|\n",
      "|    20|2013000020|2013000020|2013-01-01 00:00:00|        CSH| 0.0|  0.0|      5.5|\n",
      "|    21|2013000021|2013000021|2013-01-01 00:00:00|        CRD| 1.7|  0.0|     10.7|\n",
      "+------+----------+----------+-------------------+-----------+----+-----+---------+\n",
      "only showing top 20 rows\n",
      "\n"
     ]
    },
    {
     "name": "stderr",
     "output_type": "stream",
     "text": [
      "                                                                                \r"
     ]
    }
   ],
   "source": [
    "dtfares.cache()\n",
    "dtfares.createOrReplaceTempView(\"dfTable\")\n",
    "dtfares.show()"
   ]
  },
  {
   "cell_type": "markdown",
   "id": "36c4e12c-c5c8-4b99-b2a9-d60aba7b6cff",
   "metadata": {},
   "source": [
    "### - Afficher la taille du fichier Fares:"
   ]
  },
  {
   "cell_type": "code",
   "execution_count": 18,
   "id": "ccaece55-8ad9-4d3b-9fc7-9817ef768835",
   "metadata": {},
   "outputs": [
    {
     "name": "stderr",
     "output_type": "stream",
     "text": [
      "                                                                                \r"
     ]
    },
    {
     "data": {
      "text/plain": [
       "1499998"
      ]
     },
     "execution_count": 18,
     "metadata": {},
     "output_type": "execute_result"
    }
   ],
   "source": [
    "dataFares.count()"
   ]
  },
  {
   "cell_type": "markdown",
   "id": "eadadf56-783f-4bb8-b983-83b3f07ee844",
   "metadata": {},
   "source": [
    "Nous constatons que le fichier Fares est de taille 1499998 lignes de données"
   ]
  },
  {
   "cell_type": "markdown",
   "id": "246e3631-2efe-4d7c-ba46-05bbdf129e8b",
   "metadata": {},
   "source": [
    "### - Afficher les noms des colonnes du fichier Fares"
   ]
  },
  {
   "cell_type": "code",
   "execution_count": 19,
   "id": "641bee64-5c1c-40d5-b7a6-d8a35798b72c",
   "metadata": {},
   "outputs": [
    {
     "data": {
      "text/plain": [
       "['rideId',\n",
       " 'taxiId',\n",
       " 'driverId',\n",
       " 'startTime',\n",
       " 'paymentType',\n",
       " 'tip',\n",
       " 'tolls',\n",
       " 'totalFare']"
      ]
     },
     "execution_count": 19,
     "metadata": {},
     "output_type": "execute_result"
    }
   ],
   "source": [
    "dtfares.columns"
   ]
  },
  {
   "cell_type": "markdown",
   "id": "9ab22574-4d36-454b-bd9f-ced117324f64",
   "metadata": {},
   "source": [
    "Nous avons affiché les noms des colonnes du fichier Fares"
   ]
  },
  {
   "cell_type": "markdown",
   "id": "5997330f-872c-4acc-921e-d65b3c792b92",
   "metadata": {},
   "source": [
    "### - Afficher le nombre de colonnes du fichier Fares"
   ]
  },
  {
   "cell_type": "code",
   "execution_count": 20,
   "id": "e58ea1ef-1fdc-4680-ad3b-af8f905d3605",
   "metadata": {},
   "outputs": [
    {
     "data": {
      "text/plain": [
       "8"
      ]
     },
     "execution_count": 20,
     "metadata": {},
     "output_type": "execute_result"
    }
   ],
   "source": [
    "len(dtfares.columns)"
   ]
  },
  {
   "cell_type": "markdown",
   "id": "f2ccd268-6de5-4227-8a37-89c9dba73e5a",
   "metadata": {},
   "source": [
    "Nous constatons que le fichier Fares contient 8 colonnes"
   ]
  },
  {
   "cell_type": "markdown",
   "id": "23ca4571-a4a9-4d19-816b-88d83e0f4535",
   "metadata": {},
   "source": [
    "### - Afficher les types de données du fichier Fares"
   ]
  },
  {
   "cell_type": "code",
   "execution_count": 21,
   "id": "0fa936f7-4b38-4334-af0b-f6e38ec47197",
   "metadata": {},
   "outputs": [
    {
     "data": {
      "text/plain": [
       "[('rideId', 'int'),\n",
       " ('taxiId', 'int'),\n",
       " ('driverId', 'int'),\n",
       " ('startTime', 'string'),\n",
       " ('paymentType', 'string'),\n",
       " ('tip', 'double'),\n",
       " ('tolls', 'double'),\n",
       " ('totalFare', 'double')]"
      ]
     },
     "execution_count": 21,
     "metadata": {},
     "output_type": "execute_result"
    }
   ],
   "source": [
    "dtfares.dtypes"
   ]
  },
  {
   "cell_type": "markdown",
   "id": "8e7e3978-bd25-4489-9140-4e6883420581",
   "metadata": {},
   "source": [
    "Nous constatons que le fichier de données Fares contient 8 colonnes de type:\n",
    "- rideId:entier\n",
    "- taxiId:entier\n",
    "- driverId::entier\n",
    "- startTime:string\n",
    "- paymentType:string\n",
    "- tip:double\n",
    "- tolls:double\n",
    "- totalFare:double"
   ]
  },
  {
   "cell_type": "code",
   "execution_count": 22,
   "id": "10c2d712-987f-4618-94d0-853404496cff",
   "metadata": {},
   "outputs": [],
   "source": [
    "###################################################\n",
    "#############Rides#################################\n",
    "###################################################"
   ]
  },
  {
   "cell_type": "code",
   "execution_count": 23,
   "id": "25e0754d-45a3-4a99-89c5-2e20e5bada6a",
   "metadata": {},
   "outputs": [
    {
     "name": "stdout",
     "output_type": "stream",
     "text": [
      "+------+------+-------------------+-------------------+----------+---------+----------+---------+--------------+----------+----------+\n",
      "|rideId|status|            endTime|          startTime|  startLon| startLat|    endLon|   endLat|passengerCount|    taxiId|  driverId|\n",
      "+------+------+-------------------+-------------------+----------+---------+----------+---------+--------------+----------+----------+\n",
      "|    11| START|2013-01-01 00:00:00|1970-01-01 00:00:00|-73.870834|40.773769|-73.792358|40.771759|             1|2013000011|2013000011|\n",
      "|    55| START|2013-01-01 00:00:00|1970-01-01 00:00:00| -73.87117|40.773914|-73.805054| 40.68121|             1|2013000055|2013000055|\n",
      "|    31| START|2013-01-01 00:00:00|1970-01-01 00:00:00|-73.929344|40.807728|-73.979935|40.740757|             2|2013000031|2013000031|\n",
      "|    34| START|2013-01-01 00:00:00|1970-01-01 00:00:00|-73.934555|40.750957|-73.916328|40.762241|             5|2013000034|2013000034|\n",
      "|    43| START|2013-01-01 00:00:00|1970-01-01 00:00:00|-73.946136|40.781349|-73.944977|40.790836|             1|2013000043|2013000043|\n",
      "|    54| START|2013-01-01 00:00:00|1970-01-01 00:00:00|-73.951073|40.778755|-73.816467| 40.73904|             1|2013000054|2013000054|\n",
      "|    15| START|2013-01-01 00:00:00|1970-01-01 00:00:00|-73.954117|40.778343|-73.941818|40.795479|             2|2013000015|2013000015|\n",
      "|    48| START|2013-01-01 00:00:00|1970-01-01 00:00:00|-73.955383|40.779728|-73.967758|40.760326|             1|2013000048|2013000048|\n",
      "|     8| START|2013-01-01 00:00:00|1970-01-01 00:00:00|-73.955925|40.781887|-73.963181|40.777832|             3|2013000008|2013000008|\n",
      "|    53| START|2013-01-01 00:00:00|1970-01-01 00:00:00|-73.956528|40.716976| -73.96244|40.715008|             1|2013000053|2013000053|\n",
      "|    29| START|2013-01-01 00:00:00|1970-01-01 00:00:00|-73.969841|40.797359|-73.961899|40.812466|             1|2013000029|2013000029|\n",
      "|    46| START|2013-01-01 00:00:00|1970-01-01 00:00:00|-73.970207|40.762054|-73.938873|40.842186|             5|2013000046|2013000046|\n",
      "|    32| START|2013-01-01 00:00:00|1970-01-01 00:00:00|-73.970428|40.796532|-73.970428|40.796532|             1|2013000032|2013000032|\n",
      "|    22| START|2013-01-01 00:00:00|1970-01-01 00:00:00|-73.970512|40.794228| -74.29879|40.987392|             2|2013000022|2013000022|\n",
      "|    44| START|2013-01-01 00:00:00|1970-01-01 00:00:00|   -73.973| 40.79314|-73.981453|40.778465|             1|2013000044|2013000044|\n",
      "|    26| START|2013-01-01 00:00:00|1970-01-01 00:00:00|-73.973907|40.747868|-73.948898|40.776649|             5|2013000026|2013000026|\n",
      "|    57| START|2013-01-01 00:00:00|1970-01-01 00:00:00|-73.975723|40.781693|-73.969147|40.760975|             1|2013000057|2013000057|\n",
      "|    13| START|2013-01-01 00:00:00|1970-01-01 00:00:00|-73.976761| 40.75919|-73.940315|   40.799|             1|2013000013|2013000013|\n",
      "|    45| START|2013-01-01 00:00:00|1970-01-01 00:00:00|-73.977318|40.758751|-73.971481|40.752132|             5|2013000045|2013000045|\n",
      "|    56| START|2013-01-01 00:00:00|1970-01-01 00:00:00|-73.978142| 40.75153|-74.003105|40.732994|             5|2013000056|2013000056|\n",
      "+------+------+-------------------+-------------------+----------+---------+----------+---------+--------------+----------+----------+\n",
      "only showing top 20 rows\n",
      "\n"
     ]
    },
    {
     "name": "stderr",
     "output_type": "stream",
     "text": [
      "22/03/26 09:29:26 WARN CSVHeaderChecker: CSV header does not conform to the schema.\n",
      " Header: 6, START, 2013-01-01 00:00:00, 1970-01-01 00:00:00, -73.866135, 40.771091, -73.961334, 40.764912, 6, 2013000006, 2013000006\n",
      " Schema: 60, START, 2013-01-01 00:00:00, 1970-01-01 00:00:00, -73.866135, 40.771091, -73.961334, 40.764912, 68, 20130000069, 201300000610\n",
      "Expected: 60 but found: 6\n",
      "CSV file: file:///home/jovyan/nycTaxiRides.csv\n"
     ]
    }
   ],
   "source": [
    "dtRides.createOrReplaceTempView(\"dtRides\")\n",
    "dtRides.show()"
   ]
  },
  {
   "cell_type": "markdown",
   "id": "b060c3fa-a893-450d-a976-191a00cf0936",
   "metadata": {},
   "source": [
    "### - Afficher la taille du fichier Rides:"
   ]
  },
  {
   "cell_type": "code",
   "execution_count": 24,
   "id": "5b001adf-670b-4d7c-abcd-b85a63f010d4",
   "metadata": {},
   "outputs": [
    {
     "name": "stderr",
     "output_type": "stream",
     "text": [
      "                                                                                \r"
     ]
    },
    {
     "data": {
      "text/plain": [
       "2999997"
      ]
     },
     "execution_count": 24,
     "metadata": {},
     "output_type": "execute_result"
    }
   ],
   "source": [
    "dtRides.count()"
   ]
  },
  {
   "cell_type": "markdown",
   "id": "da5412d8-8d44-44c1-abc8-b33717f93a31",
   "metadata": {},
   "source": [
    "Nous constatons que le fichier Rides est de taille 2999997 lignes de données"
   ]
  },
  {
   "cell_type": "markdown",
   "id": "53649868-7c10-4e76-ab0a-f0cedcfd3879",
   "metadata": {},
   "source": [
    "### - Afficher les noms des colonnes du fichier Rides:"
   ]
  },
  {
   "cell_type": "code",
   "execution_count": 25,
   "id": "1643e79f-d69c-4e37-9f6f-5b868baa3f63",
   "metadata": {},
   "outputs": [
    {
     "data": {
      "text/plain": [
       "['rideId',\n",
       " 'status',\n",
       " 'endTime',\n",
       " 'startTime',\n",
       " 'startLon',\n",
       " 'startLat',\n",
       " 'endLon',\n",
       " 'endLat',\n",
       " 'passengerCount',\n",
       " 'taxiId',\n",
       " 'driverId']"
      ]
     },
     "execution_count": 25,
     "metadata": {},
     "output_type": "execute_result"
    }
   ],
   "source": [
    "dtRides.columns"
   ]
  },
  {
   "cell_type": "markdown",
   "id": "14eefece-5b82-49b3-aa6d-3026e645e5ae",
   "metadata": {},
   "source": [
    "### - Afficher le nombre de colonnes du fichier Rides"
   ]
  },
  {
   "cell_type": "code",
   "execution_count": 26,
   "id": "9732e6ba-e50c-4000-9ac7-e2466c75c081",
   "metadata": {},
   "outputs": [
    {
     "data": {
      "text/plain": [
       "11"
      ]
     },
     "execution_count": 26,
     "metadata": {},
     "output_type": "execute_result"
    }
   ],
   "source": [
    "len(dtRides.columns)"
   ]
  },
  {
   "cell_type": "markdown",
   "id": "0d87db19-c9b1-4f06-abb8-625ab90a4567",
   "metadata": {},
   "source": [
    "Nous constatons que le fichier Rides contient 11 colonnes"
   ]
  },
  {
   "cell_type": "markdown",
   "id": "1cab6f53-93b1-45ef-a07c-efa04b6dde3d",
   "metadata": {},
   "source": [
    "### - Afficher les types des colonnes du fichier Rides"
   ]
  },
  {
   "cell_type": "code",
   "execution_count": 27,
   "id": "cedec2aa-b7a3-4db3-9b11-945cfc847457",
   "metadata": {},
   "outputs": [
    {
     "data": {
      "text/plain": [
       "[('rideId', 'int'),\n",
       " ('status', 'string'),\n",
       " ('endTime', 'string'),\n",
       " ('startTime', 'string'),\n",
       " ('startLon', 'double'),\n",
       " ('startLat', 'double'),\n",
       " ('endLon', 'double'),\n",
       " ('endLat', 'double'),\n",
       " ('passengerCount', 'int'),\n",
       " ('taxiId', 'int'),\n",
       " ('driverId', 'int')]"
      ]
     },
     "execution_count": 27,
     "metadata": {},
     "output_type": "execute_result"
    }
   ],
   "source": [
    "dtRides.dtypes"
   ]
  },
  {
   "cell_type": "markdown",
   "id": "6bf0fc20-1c3b-40da-a391-ae9b6dce708a",
   "metadata": {},
   "source": [
    "Nous constatons que le fichier de données Rides contient 11 colonnes de type:rideId:entier\n",
    "- status:string\n",
    "- endTime:string\n",
    "- startTime:string\n",
    "- startLon:double\n",
    "- startLat:double\n",
    "- endLon:double\n",
    "- endLat:double\n",
    "- passengerCount:entier\n",
    "- taxiId:entier\n",
    "- driverId:entier"
   ]
  },
  {
   "cell_type": "markdown",
   "id": "1436deb6-ab8f-4cd6-9880-1d62f7d66fe0",
   "metadata": {},
   "source": [
    "# 3.Analyse exploratoire"
   ]
  },
  {
   "cell_type": "code",
   "execution_count": 28,
   "id": "e7b23a51-cc19-46ca-8ebe-46f5e2c3dfb7",
   "metadata": {},
   "outputs": [],
   "source": [
    "###################################################\n",
    "#############Fares#################################\n",
    "###################################################"
   ]
  },
  {
   "cell_type": "markdown",
   "id": "3d853db6-b0a4-417c-8715-3a727f6a1983",
   "metadata": {},
   "source": [
    "### - Afficher les valeurs distinctes des colonnes du fichier Fares"
   ]
  },
  {
   "cell_type": "code",
   "execution_count": 29,
   "id": "e35b8587-0694-41e4-8bea-cb1751011a30",
   "metadata": {},
   "outputs": [
    {
     "name": "stderr",
     "output_type": "stream",
     "text": [
      "[Stage 18:>                                                         (0 + 1) / 1]\r"
     ]
    },
    {
     "name": "stdout",
     "output_type": "stream",
     "text": [
      "+------+----------+----------+-------------------+-----------+----+-----+---------+\n",
      "|rideId|    taxiId|  driverId|          startTime|paymentType| tip|tolls|totalFare|\n",
      "+------+----------+----------+-------------------+-----------+----+-----+---------+\n",
      "|   372|2013000372|2013000372|2013-01-01 00:02:51|        CSH| 0.0|  0.0|      5.0|\n",
      "|   392|2013000391|2013000389|2013-01-01 00:03:00|        CRD| 4.8|  0.0|     29.3|\n",
      "|   874|2013000869|2013000866|2013-01-01 00:05:00|        CRD|6.38|  0.0|    32.38|\n",
      "|  1387|2013001370|2013001367|2013-01-01 00:06:57|        CSH| 0.0|  0.0|     23.0|\n",
      "|  1694|2013001671|2013001668|2013-01-01 00:07:46|        CSH| 0.0|  0.0|     10.0|\n",
      "|  1913|2013001884|2013001881|2013-01-01 00:08:00|        CRD| 0.8|  0.0|      5.3|\n",
      "|  1938|2013001907|2013001904|2013-01-01 00:08:07|        CSH| 0.0|  0.0|     20.0|\n",
      "|  2121|2013002082|2013002079|2013-01-01 00:09:00|        CSH| 0.0|  0.0|      9.5|\n",
      "|  2127|2013002088|2013002085|2013-01-01 00:09:00|        CRD| 0.9|  0.0|      5.9|\n",
      "|  2151|2013002110|2013002107|2013-01-01 00:09:00|        CRD| 2.4|  0.0|     14.9|\n",
      "|  2659|2013002590|2013002587|2013-01-01 00:10:00|        CRD| 2.4|  0.0|     14.9|\n",
      "|  2843|2013002760|2013002757|2013-01-01 00:10:41|        CSH| 0.0|  0.0|     14.0|\n",
      "|  2899|2013002809|2013002806|2013-01-01 00:10:56|        CRD| 5.5|  0.0|     33.0|\n",
      "|  3103|2013002995|2013002992|2013-01-01 00:11:00|        CRD|1.38|  0.0|     7.38|\n",
      "|  3302|2013003176|2013003173|2013-01-01 00:11:43|        CSH| 0.0|  0.0|     12.5|\n",
      "|  3529|2013003368|2013003364|2013-01-01 00:12:00|        CSH| 0.0|  0.0|     10.5|\n",
      "|  3875|2013003660|2013003656|2013-01-01 00:13:00|        CRD| 1.7|  0.0|     10.7|\n",
      "|  4061|2013003821|2013003818|2013-01-01 00:13:00|        CSH| 0.0|  0.0|      7.5|\n",
      "|  4625|2013004293|2013004290|2013-01-01 00:14:29|        CSH| 0.0|  0.0|      9.0|\n",
      "|  4627|2013004295|2013004292|2013-01-01 00:14:30|        CSH| 0.0|  0.0|      9.5|\n",
      "+------+----------+----------+-------------------+-----------+----+-----+---------+\n",
      "only showing top 20 rows\n",
      "\n"
     ]
    },
    {
     "name": "stderr",
     "output_type": "stream",
     "text": [
      "                                                                                \r"
     ]
    }
   ],
   "source": [
    "dtfares.distinct().show()"
   ]
  },
  {
   "cell_type": "markdown",
   "id": "8eccdd07-32dc-497d-84b9-784953b92ff5",
   "metadata": {},
   "source": [
    "### - Analyser l'ensemble des données du fichier Fares;taille de chaque colonne,moyenne, la valeur min est max de chaque colonne.."
   ]
  },
  {
   "cell_type": "code",
   "execution_count": 30,
   "id": "6ed7154a-1c36-4cb1-9d78-e12934c0867f",
   "metadata": {},
   "outputs": [
    {
     "name": "stderr",
     "output_type": "stream",
     "text": [
      "                                                                                \r"
     ]
    },
    {
     "name": "stdout",
     "output_type": "stream",
     "text": [
      "+-------+------------------+--------------------+--------------------+-------------------+-----------+------------------+-------------------+------------------+\n",
      "|summary|            rideId|              taxiId|            driverId|          startTime|paymentType|               tip|              tolls|         totalFare|\n",
      "+-------+------------------+--------------------+--------------------+-------------------+-----------+------------------+-------------------+------------------+\n",
      "|  count|           1499998|             1499998|             1499998|            1499998|    1499998|           1499998|            1499998|           1499998|\n",
      "|   mean|          750000.5|2.0130060487680624E9|2.0130127739992194E9|               null|       null|1.1063924818565527|0.23253004337333277| 14.13116972822584|\n",
      "| stddev|433012.26887949335|  3571.3851199687306|   7278.930792379704|               null|       null| 2.051733865763427| 1.1242609593926463|12.219667937243889|\n",
      "|    min|                 2|          2013000001|          2013000001|2013-01-01 00:00:00|        CRD|               0.0|                0.0|               2.5|\n",
      "|    max|           1499999|          2013013223|          2013027139|2013-01-04 16:03:22|        UNK|            153.35|               20.0|             650.0|\n",
      "+-------+------------------+--------------------+--------------------+-------------------+-----------+------------------+-------------------+------------------+\n",
      "\n"
     ]
    }
   ],
   "source": [
    "from pyspark.sql.types import NullType\n",
    "dtfares.describe().show()"
   ]
  },
  {
   "cell_type": "markdown",
   "id": "92be74ca-0b42-4f9d-b170-621b3aaef3df",
   "metadata": {},
   "source": [
    "Après avoir executé la commande dtfares.describe().show() sur le fichier Fares; nous avons un premier constat\n",
    "sur le fichier Fares: le nombre de ligne de chaque colonne, la moyenne, la valeur min et la valeur max\n",
    "ce qui nous a pris de faire une analyse exploratoire sur le fichier de données.\n",
    "Par exemple:\n",
    "- Sur la colonne tip, le nombre de ligne de cette colonne est de 1499998,la valeur min est 0.0 et la valeur max\n",
    "et de 153,35.\n",
    "- Aussi nous avons pu constaté que sur cette colonne (tip)il y a des lignes avec une valeur de pourboire 0 ce qui\n",
    "n'est pas interessant dans le cas de notre étude d'où il faudra supprimer les lignes sur lesquelles les valeurs de\n",
    "tip est 0.0.\n",
    "- Ensuite, sur la colonne tolls, nous avons constaté qu'il y avait des valeurs nulls, il faudra les supprimer.\n",
    "- Sur la colonne tip il y a une différence de 153,35, d'où ce serait interessant de la borner pour ne pas biaiser les résultats."
   ]
  },
  {
   "cell_type": "markdown",
   "id": "639df0c4-d63a-4572-ae98-7e69a7dcd875",
   "metadata": {},
   "source": [
    "### - Regrouppement par tip"
   ]
  },
  {
   "cell_type": "code",
   "execution_count": 31,
   "id": "af25bc4e-203e-4e41-bd51-6fcff24f84b3",
   "metadata": {},
   "outputs": [
    {
     "name": "stderr",
     "output_type": "stream",
     "text": [
      "[Stage 22:>                                                         (0 + 2) / 2]\r"
     ]
    },
    {
     "name": "stdout",
     "output_type": "stream",
     "text": [
      "+-----------+------------------+\n",
      "|paymentType|          sum(tip)|\n",
      "+-----------+------------------+\n",
      "|        CSH|455.99999999999994|\n",
      "|        DIS|22.060000000000002|\n",
      "|        CRD|1657488.0599998645|\n",
      "|        UNK|1569.9900000000002|\n",
      "|        NOC|              50.4|\n",
      "+-----------+------------------+\n",
      "\n"
     ]
    },
    {
     "name": "stderr",
     "output_type": "stream",
     "text": [
      "                                                                                \r"
     ]
    }
   ],
   "source": [
    "dtfares.groupBy(\"paymentType\").sum(\"tip\").show()"
   ]
  },
  {
   "cell_type": "markdown",
   "id": "61f3b9a8-81a4-4ab5-9d35-243c424a4005",
   "metadata": {},
   "source": [
    "Cette commande nous a permis de voir pour chaque type de payement la somme totale des pourboires, ce aui fait nous constatons que\n",
    "que le payment par CRD qui a la plus grande somme 1657488. "
   ]
  },
  {
   "cell_type": "markdown",
   "id": "16fe4e5c-7d04-4190-9b30-06f7e4ef1277",
   "metadata": {},
   "source": [
    "### - Regroupement par Taxi "
   ]
  },
  {
   "cell_type": "code",
   "execution_count": 32,
   "id": "2f1e7707-cb8e-441c-b4b7-0e86f78fc317",
   "metadata": {},
   "outputs": [
    {
     "name": "stderr",
     "output_type": "stream",
     "text": [
      "[Stage 25:=============================>                            (1 + 1) / 2]\r"
     ]
    },
    {
     "name": "stdout",
     "output_type": "stream",
     "text": [
      "+----------+------------------+\n",
      "|    taxiId|          sum(tip)|\n",
      "+----------+------------------+\n",
      "|2013000166|            113.43|\n",
      "|2013000247|103.46000000000001|\n",
      "|2013000272|266.18999999999994|\n",
      "|2013000370|            220.05|\n",
      "|2013000432|            124.84|\n",
      "|2013000742| 98.86000000000001|\n",
      "|2013001056|            126.34|\n",
      "|2013001116|117.14999999999999|\n",
      "|2013001158|            163.26|\n",
      "|2013001230|113.95000000000002|\n",
      "|2013001320|127.03999999999999|\n",
      "|2013001360|            172.99|\n",
      "|2013001512|            116.92|\n",
      "|2013001734|            133.83|\n",
      "|2013001888|            149.79|\n",
      "|2013002263|            164.49|\n",
      "|2013002612|            147.34|\n",
      "|2013002772|             72.99|\n",
      "|2013002823|            106.84|\n",
      "|2013002871|161.92000000000002|\n",
      "+----------+------------------+\n",
      "only showing top 20 rows\n",
      "\n"
     ]
    },
    {
     "name": "stderr",
     "output_type": "stream",
     "text": [
      "                                                                                \r"
     ]
    }
   ],
   "source": [
    "dtfares.groupBy(\"taxiId\").sum(\"tip\").show()"
   ]
  },
  {
   "cell_type": "markdown",
   "id": "635dd61f-f1ec-490c-9648-01ee9bc8ded5",
   "metadata": {},
   "source": [
    "Cette commande nous a permis de voir pour chaque Taxi, la somme totale de ses pourboires."
   ]
  },
  {
   "cell_type": "markdown",
   "id": "37ee7a2a-3525-4e57-b9ef-eb79119394ae",
   "metadata": {},
   "source": [
    "### -Groupement(start time)et echantillonage (par heure ) avec la somme des tips"
   ]
  },
  {
   "cell_type": "code",
   "execution_count": 33,
   "id": "7b2fc1a3-c302-4210-8e75-47f9eac8327e",
   "metadata": {},
   "outputs": [
    {
     "name": "stderr",
     "output_type": "stream",
     "text": [
      "[Stage 28:=============================>                            (1 + 1) / 2]\r"
     ]
    },
    {
     "name": "stdout",
     "output_type": "stream",
     "text": [
      "+-----+------------------+\n",
      "|heure|          sum(tip)|\n",
      "+-----+------------------+\n",
      "|   12| 79709.56999999983|\n",
      "|   22| 71659.52999999978|\n",
      "|    1| 57814.07000000022|\n",
      "|   13| 84494.14000000013|\n",
      "|    6| 46654.54999999994|\n",
      "|   16| 62374.29999999991|\n",
      "|    3|  38447.1699999998|\n",
      "|   20| 79307.00000000013|\n",
      "|    5|33138.139999999985|\n",
      "|   19| 83313.52000000014|\n",
      "|   15| 90015.97000000058|\n",
      "|    9| 91079.32000000027|\n",
      "|   17| 71517.43999999989|\n",
      "|    4| 32274.48000000006|\n",
      "|    8| 93782.43000000031|\n",
      "|   23| 53417.72000000016|\n",
      "|    7|  68996.4700000001|\n",
      "|   10| 77024.50000000015|\n",
      "|   21|  78051.9000000002|\n",
      "|   11| 72240.37000000008|\n",
      "+-----+------------------+\n",
      "only showing top 20 rows\n",
      "\n"
     ]
    },
    {
     "name": "stderr",
     "output_type": "stream",
     "text": [
      "                                                                                \r"
     ]
    }
   ],
   "source": [
    "from pyspark.sql.functions import hour\n",
    "dtfares.groupBy(hour(\"startTime\").alias(\"heure\")).sum('tip').show()"
   ]
  },
  {
   "cell_type": "markdown",
   "id": "65c08948-b4cf-43af-9f20-10e36f65265e",
   "metadata": {},
   "source": [
    "Le groupement des pourboires selon les heures nous montre que les pourboires les plus élevés sont à 9h le matin avec une somme de 91079 et 15h l'après-midi avec une somme de 90015 par contre les plus petits à 3h et 4h du matin avec une moyenne de 35000."
   ]
  },
  {
   "cell_type": "markdown",
   "id": "803fdafb-4f7d-4f55-83ac-f0f3428f9983",
   "metadata": {},
   "source": [
    "### -Conversion de la colonne startTime de type String à une date "
   ]
  },
  {
   "cell_type": "code",
   "execution_count": 34,
   "id": "d0f499b7-6294-4040-9909-24d55219d148",
   "metadata": {},
   "outputs": [],
   "source": [
    "from pyspark.sql.types import TimestampType\n",
    "newFares=dtfares.withColumn(\"startTime\",dtfares['startTime'].cast(TimestampType()))"
   ]
  },
  {
   "cell_type": "code",
   "execution_count": 35,
   "id": "3766affd-06ce-4ba1-bde3-6d47e51cfe5a",
   "metadata": {},
   "outputs": [
    {
     "name": "stdout",
     "output_type": "stream",
     "text": [
      "root\n",
      " |-- rideId: integer (nullable = true)\n",
      " |-- taxiId: integer (nullable = true)\n",
      " |-- driverId: integer (nullable = true)\n",
      " |-- startTime: timestamp (nullable = true)\n",
      " |-- paymentType: string (nullable = true)\n",
      " |-- tip: double (nullable = true)\n",
      " |-- tolls: double (nullable = true)\n",
      " |-- totalFare: double (nullable = true)\n",
      "\n"
     ]
    }
   ],
   "source": [
    "newFares.printSchema()"
   ]
  },
  {
   "cell_type": "markdown",
   "id": "56aa26d1-2319-4a0f-a666-d6e60ae93cba",
   "metadata": {},
   "source": [
    "Aprés avoir convertitla colonne startTime nous avons vérifié avec la commande printSchéma() la conversion a été bien effectuée"
   ]
  },
  {
   "cell_type": "markdown",
   "id": "76084935-88fa-4ca5-aa6b-65e9f6109d01",
   "metadata": {},
   "source": [
    "### - Aggregation par start time et echantillonage par heure  avec la moyenne"
   ]
  },
  {
   "cell_type": "code",
   "execution_count": 36,
   "id": "a8fb8d9c-897b-4e5a-ac9b-269b87a07002",
   "metadata": {},
   "outputs": [
    {
     "name": "stderr",
     "output_type": "stream",
     "text": [
      "[Stage 31:>                                                         (0 + 2) / 2]\r"
     ]
    },
    {
     "name": "stdout",
     "output_type": "stream",
     "text": [
      "+-----+------------------+\n",
      "|heure|          avg(tip)|\n",
      "+-----+------------------+\n",
      "|   12|0.9459504652045931|\n",
      "|   22| 1.244240272255305|\n",
      "|    1| 1.135880977641562|\n",
      "|   13|0.9828099846461654|\n",
      "|    6|1.1696094161297586|\n",
      "|   16|1.0670116495885849|\n",
      "|    3|1.1335663531562286|\n",
      "|   20|1.2108678392573613|\n",
      "|    5| 1.441666231619246|\n",
      "|   19|1.1076421553638158|\n",
      "|   15|1.0431917162094888|\n",
      "|    9|1.1262018226107635|\n",
      "|   17|1.0609007298403828|\n",
      "|    4|1.2020738202540155|\n",
      "|    8|1.1890459225073577|\n",
      "|   23|1.2514987231450498|\n",
      "|    7|1.1268225245382257|\n",
      "|   10|1.0516295072566682|\n",
      "|   21|  1.24757284657066|\n",
      "|   11|0.9447260909935016|\n",
      "+-----+------------------+\n",
      "only showing top 20 rows\n",
      "\n"
     ]
    },
    {
     "name": "stderr",
     "output_type": "stream",
     "text": [
      "                                                                                \r"
     ]
    }
   ],
   "source": [
    "from pyspark.sql.functions import hour,mean\n",
    "newFares.groupBy(hour(\"startTime\").alias(\"heure\")).agg(mean('tip')).show()"
   ]
  },
  {
   "cell_type": "code",
   "execution_count": 35,
   "id": "52b1f15b-cd7a-455c-825c-79c3cc7d56b3",
   "metadata": {},
   "outputs": [],
   "source": [
    "###################################################\n",
    "#############Rides#################################\n",
    "###################################################"
   ]
  },
  {
   "cell_type": "markdown",
   "id": "e47c9f8b-b5a8-448c-ab6e-066a80d239b1",
   "metadata": {},
   "source": [
    "### - Analyser l'ensemble des données du fichier Fares;taille de chaque colonne,moyenne, la valeur min est max de chaque colonne.."
   ]
  },
  {
   "cell_type": "code",
   "execution_count": 37,
   "id": "abd32af1-214c-4081-b026-24d2408d90e9",
   "metadata": {},
   "outputs": [
    {
     "name": "stderr",
     "output_type": "stream",
     "text": [
      "22/03/26 09:31:06 WARN CSVHeaderChecker: CSV header does not conform to the schema.\n",
      " Header: 6, START, 2013-01-01 00:00:00, 1970-01-01 00:00:00, -73.866135, 40.771091, -73.961334, 40.764912, 6, 2013000006, 2013000006\n",
      " Schema: 60, START, 2013-01-01 00:00:00, 1970-01-01 00:00:00, -73.866135, 40.771091, -73.961334, 40.764912, 68, 20130000069, 201300000610\n",
      "Expected: 60 but found: 6\n",
      "CSV file: file:///home/jovyan/nycTaxiRides.csv\n",
      "[Stage 34:======================================>                   (2 + 1) / 3]\r"
     ]
    },
    {
     "name": "stdout",
     "output_type": "stream",
     "text": [
      "+-------+-----------------+-------+-------------------+-------------------+------------------+-----------------+------------------+-----------------+------------------+--------------------+------------------+\n",
      "|summary|           rideId| status|            endTime|          startTime|          startLon|         startLat|            endLon|           endLat|    passengerCount|              taxiId|          driverId|\n",
      "+-------+-----------------+-------+-------------------+-------------------+------------------+-----------------+------------------+-----------------+------------------+--------------------+------------------+\n",
      "|  count|          2999997|2999997|            2999997|            2999997|           2999997|          2999997|           2999991|          2999991|           2999997|             2999997|           2999997|\n",
      "|   mean|  750000.24999825|   null|               null|               null| -72.6400841644668|40.02096581127725|-72.59463751141244|39.99696398585626|1.7330083996750663|2.0130060487660449E9|2.01301277399496E9|\n",
      "| stddev|433012.3410512516|   null|               null|               null|10.042536608238093|5.814193175504287| 10.27323948685243|6.139367378170593|1.3796178557005097|  3571.3856386112425| 7278.932104887856|\n",
      "|    min|                1|    END|2013-01-01 00:00:00|1970-01-01 00:00:00|        -2134.6482|       -2498.9114|        -2331.8333|       -2875.6877|                 0|          2013000001|        2013000001|\n",
      "|    max|          1499999|  START|2013-01-24 23:13:23|2013-01-04 16:03:22|               0.0|        473.97794|         111.49388|        1651.5535|               208|          2013013223|        2013027139|\n",
      "+-------+-----------------+-------+-------------------+-------------------+------------------+-----------------+------------------+-----------------+------------------+--------------------+------------------+\n",
      "\n"
     ]
    },
    {
     "name": "stderr",
     "output_type": "stream",
     "text": [
      "                                                                                \r"
     ]
    }
   ],
   "source": [
    "from pyspark.sql.types import NullType\n",
    "dtRides.describe().show()"
   ]
  },
  {
   "cell_type": "markdown",
   "id": "3b7626c5-29a9-4cf1-8541-613b24eff478",
   "metadata": {},
   "source": [
    "Après avoir executé la commande dtRides.describe().show() sur le fichier Rides; nous avons un premier constat\n",
    "sur le fichier Fares: le nombre de ligne de chaque colonne, la moyenne, la valeur min et la valeur max\n",
    "ce qui nous a pris de faire une analyse exploratoire sur le fichier de données.\n",
    "Par exemple sur la colonne passengerCount, nous avons constaté qu'il y a des valeurs 0, ce qui ne sera pas intéressant pour notre étude car s'il n'y a pas de passagers , il y aura pas de pourboires."
   ]
  },
  {
   "cell_type": "markdown",
   "id": "9f9cb240-cb2f-4fe1-94d5-1b92e3f2dc89",
   "metadata": {},
   "source": [
    "### -Conversion des colonnes startTime et endTime de type String à une date"
   ]
  },
  {
   "cell_type": "code",
   "execution_count": 39,
   "id": "d8a80969-86fb-4e83-9f9c-438c5d6df0ec",
   "metadata": {},
   "outputs": [],
   "source": [
    "from pyspark.sql.types import TimestampType\n",
    "Rides=dtRides.withColumn(\"startTime\",dtRides['startTime'].cast(TimestampType()))"
   ]
  },
  {
   "cell_type": "code",
   "execution_count": 40,
   "id": "42319f9d-6f1d-4ded-bc72-dce188e178bb",
   "metadata": {},
   "outputs": [
    {
     "name": "stdout",
     "output_type": "stream",
     "text": [
      "root\n",
      " |-- rideId: integer (nullable = true)\n",
      " |-- status: string (nullable = true)\n",
      " |-- endTime: string (nullable = true)\n",
      " |-- startTime: timestamp (nullable = true)\n",
      " |-- startLon: double (nullable = true)\n",
      " |-- startLat: double (nullable = true)\n",
      " |-- endLon: double (nullable = true)\n",
      " |-- endLat: double (nullable = true)\n",
      " |-- passengerCount: integer (nullable = true)\n",
      " |-- taxiId: integer (nullable = true)\n",
      " |-- driverId: integer (nullable = true)\n",
      "\n"
     ]
    }
   ],
   "source": [
    "Rides.printSchema()"
   ]
  },
  {
   "cell_type": "code",
   "execution_count": 41,
   "id": "5c4edca4-8298-42a3-a41d-02be03ff559c",
   "metadata": {},
   "outputs": [],
   "source": [
    "from pyspark.sql.types import TimestampType\n",
    "newRides=Rides.withColumn(\"endTime\",Rides['endTime'].cast(TimestampType()))"
   ]
  },
  {
   "cell_type": "code",
   "execution_count": 42,
   "id": "a558aadc-21db-4500-a0b8-e1c039da1fc0",
   "metadata": {},
   "outputs": [
    {
     "name": "stdout",
     "output_type": "stream",
     "text": [
      "root\n",
      " |-- rideId: integer (nullable = true)\n",
      " |-- status: string (nullable = true)\n",
      " |-- endTime: timestamp (nullable = true)\n",
      " |-- startTime: timestamp (nullable = true)\n",
      " |-- startLon: double (nullable = true)\n",
      " |-- startLat: double (nullable = true)\n",
      " |-- endLon: double (nullable = true)\n",
      " |-- endLat: double (nullable = true)\n",
      " |-- passengerCount: integer (nullable = true)\n",
      " |-- taxiId: integer (nullable = true)\n",
      " |-- driverId: integer (nullable = true)\n",
      "\n"
     ]
    }
   ],
   "source": [
    "newRides.printSchema()"
   ]
  },
  {
   "cell_type": "markdown",
   "id": "780dff68-9952-4b71-b0fd-631fd8196314",
   "metadata": {},
   "source": [
    "Aprés avoir convertitla colonne startTime nous avons vérifié avec la commande printSchéma() la conversion de deux colonnes \n",
    "a été bien effectuée"
   ]
  },
  {
   "cell_type": "markdown",
   "id": "2b94a7ad-b736-4cf1-87d1-5e8990fc0507",
   "metadata": {},
   "source": [
    "### - Merge les deux dataframes Fares et Rides"
   ]
  },
  {
   "cell_type": "code",
   "execution_count": 43,
   "id": "c5e90f19-30cc-4726-be14-3b1ca868d13e",
   "metadata": {},
   "outputs": [
    {
     "data": {
      "text/plain": [
       "['rideId',\n",
       " 'status',\n",
       " 'endTime',\n",
       " 'startTime',\n",
       " 'startLon',\n",
       " 'startLat',\n",
       " 'endLon',\n",
       " 'endLat',\n",
       " 'passengerCount',\n",
       " 'taxiId',\n",
       " 'driverId',\n",
       " 'rideId',\n",
       " 'taxiId',\n",
       " 'driverId',\n",
       " 'startTime',\n",
       " 'paymentType',\n",
       " 'tip',\n",
       " 'tolls',\n",
       " 'totalFare']"
      ]
     },
     "execution_count": 43,
     "metadata": {},
     "output_type": "execute_result"
    }
   ],
   "source": [
    "\n",
    "merged=newRides.join(newFares,newFares.driverId==newRides.driverId)\n",
    "merged.columns"
   ]
  },
  {
   "cell_type": "code",
   "execution_count": 44,
   "id": "ace61992-f44f-4e28-9f21-4d2f59fabd0e",
   "metadata": {},
   "outputs": [
    {
     "name": "stderr",
     "output_type": "stream",
     "text": [
      "22/03/26 09:32:26 WARN CSVHeaderChecker: CSV header does not conform to the schema.\n",
      " Header: 6, START, 2013-01-01 00:00:00, 1970-01-01 00:00:00, -73.866135, 40.771091, -73.961334, 40.764912, 6, 2013000006, 2013000006\n",
      " Schema: 60, START, 2013-01-01 00:00:00, 1970-01-01 00:00:00, -73.866135, 40.771091, -73.961334, 40.764912, 68, 20130000069, 201300000610\n",
      "Expected: 60 but found: 6\n",
      "CSV file: file:///home/jovyan/nycTaxiRides.csv\n",
      "[Stage 41:>                                                         (0 + 1) / 1]\r"
     ]
    },
    {
     "name": "stdout",
     "output_type": "stream",
     "text": [
      "+------+------+-------------------+-------------------+----------+---------+----------+---------+--------------+----------+----------+------+----------+----------+-------------------+-----------+---+-----+---------+\n",
      "|rideId|status|            endTime|          startTime|  startLon| startLat|    endLon|   endLat|passengerCount|    taxiId|  driverId|rideId|    taxiId|  driverId|          startTime|paymentType|tip|tolls|totalFare|\n",
      "+------+------+-------------------+-------------------+----------+---------+----------+---------+--------------+----------+----------+------+----------+----------+-------------------+-----------+---+-----+---------+\n",
      "|     2| START|2013-01-01 00:00:00|1970-01-01 00:00:00|-73.978325|40.778091|-73.981834|40.768639|             5|2013000002|2013000002|     2|2013000002|2013000002|2013-01-01 00:00:00|        CSH|0.0|  0.0|      7.0|\n",
      "|     2| START|2013-01-01 00:00:00|1970-01-01 00:00:00|-73.978325|40.778091|-73.981834|40.768639|             5|2013000002|2013000002|  5222|2013000002|2013000002|2013-01-01 00:16:00|        CSH|0.0|  0.0|      9.0|\n",
      "|     2| START|2013-01-01 00:00:00|1970-01-01 00:00:00|-73.978325|40.778091|-73.981834|40.768639|             5|2013000002|2013000002| 10362|2013000002|2013000002|2013-01-01 00:26:00|        CSH|0.0|  0.0|      8.0|\n",
      "|     2| START|2013-01-01 00:00:00|1970-01-01 00:00:00|-73.978325|40.778091|-73.981834|40.768639|             5|2013000002|2013000002| 16293|2013000002|2013000002|2013-01-01 00:37:00|        CSH|0.0|  0.0|      9.0|\n",
      "|     2| START|2013-01-01 00:00:00|1970-01-01 00:00:00|-73.978325|40.778091|-73.981834|40.768639|             5|2013000002|2013000002| 21336|2013000002|2013000002|2013-01-01 00:46:00|        CRD|1.0|  0.0|      6.5|\n",
      "|     2| START|2013-01-01 00:00:00|1970-01-01 00:00:00|-73.978325|40.778091|-73.981834|40.768639|             5|2013000002|2013000002| 23491|2013000002|2013000002|2013-01-01 00:50:00|        CRD|3.1|  0.0|     19.1|\n",
      "|     2| START|2013-01-01 00:00:00|1970-01-01 00:00:00|-73.978325|40.778091|-73.981834|40.768639|             5|2013000002|2013000002| 32973|2013000002|2013000002|2013-01-01 01:07:00|        CRD|3.1|  0.0|     19.1|\n",
      "|     2| START|2013-01-01 00:00:00|1970-01-01 00:00:00|-73.978325|40.778091|-73.981834|40.768639|             5|2013000002|2013000002| 44347|2013000002|2013000002|2013-01-01 01:28:00|        CSH|0.0|  0.0|     32.0|\n",
      "|     2| START|2013-01-01 00:00:00|1970-01-01 00:00:00|-73.978325|40.778091|-73.981834|40.768639|             5|2013000002|2013000002| 64251|2013000002|2013000002|2013-01-01 02:07:00|        CSH|0.0|  0.0|      6.5|\n",
      "|     2| START|2013-01-01 00:00:00|1970-01-01 00:00:00|-73.978325|40.778091|-73.981834|40.768639|             5|2013000002|2013000002| 67238|2013000002|2013000002|2013-01-01 02:13:00|        CSH|0.0|  0.0|      6.5|\n",
      "|     2| START|2013-01-01 00:00:00|1970-01-01 00:00:00|-73.978325|40.778091|-73.981834|40.768639|             5|2013000002|2013000002| 70269|2013000002|2013000002|2013-01-01 02:19:00|        CRD|2.5|  0.0|     13.0|\n",
      "|     2| START|2013-01-01 00:00:00|1970-01-01 00:00:00|-73.978325|40.778091|-73.981834|40.768639|             5|2013000002|2013000002| 77573|2013000002|2013000002|2013-01-01 02:34:00|        CSH|0.0|  0.0|     22.0|\n",
      "|     2| START|2013-01-01 00:00:00|1970-01-01 00:00:00|-73.978325|40.778091|-73.981834|40.768639|             5|2013000002|2013000002| 93705|2013000002|2013000002|2013-01-01 03:08:00|        CRD|2.0|  0.0|     15.0|\n",
      "|     2| START|2013-01-01 00:00:00|1970-01-01 00:00:00|-73.978325|40.778091|-73.981834|40.768639|             5|2013000002|2013000002| 98673|2013000002|2013000002|2013-01-01 03:19:00|        CSH|0.0|  0.0|      7.0|\n",
      "|     2| START|2013-01-01 00:00:00|1970-01-01 00:00:00|-73.978325|40.778091|-73.981834|40.768639|             5|2013000002|2013000002|101820|2013000002|2013000002|2013-01-01 03:26:00|        CSH|0.0|  0.0|      9.0|\n",
      "|     2| START|2013-01-01 00:00:00|1970-01-01 00:00:00|-73.978325|40.778091|-73.981834|40.768639|             5|2013000002|2013000002|106797|2013000002|2013000002|2013-01-01 03:38:00|        CSH|0.0|  0.0|     10.5|\n",
      "|     2| START|2013-01-01 00:00:00|1970-01-01 00:00:00|-73.978325|40.778091|-73.981834|40.768639|             5|2013000002|2013000002|114564|2013000002|2013000002|2013-01-01 03:58:00|        CRD|1.0|  0.0|      6.5|\n",
      "|     2| START|2013-01-01 00:00:00|1970-01-01 00:00:00|-73.978325|40.778091|-73.981834|40.768639|             5|2013000002|2013000002|115676|2013000002|2013000002|2013-01-01 04:01:00|        CRD|5.6|  4.8|     38.9|\n",
      "|     2| START|2013-01-01 00:00:00|1970-01-01 00:00:00|-73.978325|40.778091|-73.981834|40.768639|             5|2013000002|2013000002|126283|2013000002|2013000002|2013-01-01 04:32:00|        CSH|0.0|  0.0|     18.5|\n",
      "|     2| START|2013-01-01 00:00:00|1970-01-01 00:00:00|-73.978325|40.778091|-73.981834|40.768639|             5|2013000002|2013000002|132196|2013000002|2013000002|2013-01-01 04:54:00|        CRD|1.1|  0.0|      6.1|\n",
      "+------+------+-------------------+-------------------+----------+---------+----------+---------+--------------+----------+----------+------+----------+----------+-------------------+-----------+---+-----+---------+\n",
      "only showing top 20 rows\n",
      "\n"
     ]
    },
    {
     "name": "stderr",
     "output_type": "stream",
     "text": [
      "                                                                                \r"
     ]
    }
   ],
   "source": [
    "merged.show()"
   ]
  },
  {
   "cell_type": "code",
   "execution_count": 45,
   "id": "376ef0d5-94c8-4f5b-a1b1-36304d6eb8a0",
   "metadata": {},
   "outputs": [
    {
     "name": "stderr",
     "output_type": "stream",
     "text": [
      "22/03/26 09:32:51 WARN CSVHeaderChecker: CSV header does not conform to the schema.\n",
      " Header: 2013000006\n",
      " Schema: 201300000610\n",
      "Expected: 201300000610 but found: 2013000006\n",
      "CSV file: file:///home/jovyan/nycTaxiRides.csv\n",
      "[Stage 46:=============================>                            (1 + 1) / 2]\r"
     ]
    },
    {
     "data": {
      "text/plain": [
       "202615238"
      ]
     },
     "execution_count": 45,
     "metadata": {},
     "output_type": "execute_result"
    },
    {
     "name": "stderr",
     "output_type": "stream",
     "text": [
      "                                                                                \r"
     ]
    }
   ],
   "source": [
    "merged.count()"
   ]
  },
  {
   "cell_type": "markdown",
   "id": "c3f5a8db-9185-460e-a3ac-186be08f9e57",
   "metadata": {},
   "source": [
    "aprés avoir faire la jointure des deux fichiers, nous avons un ensemble de données de taille 202615238"
   ]
  },
  {
   "cell_type": "markdown",
   "id": "c3fac740-5dcc-4cc7-8d31-52cff93e6597",
   "metadata": {},
   "source": [
    "# Nettoyage des données fusionnées"
   ]
  },
  {
   "cell_type": "markdown",
   "id": "9c3fe790-a5b2-4402-b602-50770307f8c7",
   "metadata": {},
   "source": [
    "### -Supprimer les valeurs nulles"
   ]
  },
  {
   "cell_type": "code",
   "execution_count": 46,
   "id": "bbb62eb0-800b-485f-b52a-11ef7a9f2517",
   "metadata": {},
   "outputs": [
    {
     "name": "stderr",
     "output_type": "stream",
     "text": [
      "22/03/26 09:33:16 WARN CSVHeaderChecker: CSV header does not conform to the schema.\n",
      " Header: 6, START, 2013-01-01 00:00:00, 1970-01-01 00:00:00, -73.866135, 40.771091, -73.961334, 40.764912, 6, 2013000006, 2013000006\n",
      " Schema: 60, START, 2013-01-01 00:00:00, 1970-01-01 00:00:00, -73.866135, 40.771091, -73.961334, 40.764912, 68, 20130000069, 201300000610\n",
      "Expected: 60 but found: 6\n",
      "CSV file: file:///home/jovyan/nycTaxiRides.csv\n",
      "[Stage 55:>                                                         (0 + 1) / 1]\r"
     ]
    },
    {
     "name": "stdout",
     "output_type": "stream",
     "text": [
      "+------+------+-------------------+-------------------+----------+---------+----------+---------+--------------+----------+----------+------+----------+----------+-------------------+-----------+---+-----+---------+\n",
      "|rideId|status|            endTime|          startTime|  startLon| startLat|    endLon|   endLat|passengerCount|    taxiId|  driverId|rideId|    taxiId|  driverId|          startTime|paymentType|tip|tolls|totalFare|\n",
      "+------+------+-------------------+-------------------+----------+---------+----------+---------+--------------+----------+----------+------+----------+----------+-------------------+-----------+---+-----+---------+\n",
      "|     2| START|2013-01-01 00:00:00|1970-01-01 00:00:00|-73.978325|40.778091|-73.981834|40.768639|             5|2013000002|2013000002|     2|2013000002|2013000002|2013-01-01 00:00:00|        CSH|0.0|  0.0|      7.0|\n",
      "|     2| START|2013-01-01 00:00:00|1970-01-01 00:00:00|-73.978325|40.778091|-73.981834|40.768639|             5|2013000002|2013000002|  5222|2013000002|2013000002|2013-01-01 00:16:00|        CSH|0.0|  0.0|      9.0|\n",
      "|     2| START|2013-01-01 00:00:00|1970-01-01 00:00:00|-73.978325|40.778091|-73.981834|40.768639|             5|2013000002|2013000002| 10362|2013000002|2013000002|2013-01-01 00:26:00|        CSH|0.0|  0.0|      8.0|\n",
      "|     2| START|2013-01-01 00:00:00|1970-01-01 00:00:00|-73.978325|40.778091|-73.981834|40.768639|             5|2013000002|2013000002| 16293|2013000002|2013000002|2013-01-01 00:37:00|        CSH|0.0|  0.0|      9.0|\n",
      "|     2| START|2013-01-01 00:00:00|1970-01-01 00:00:00|-73.978325|40.778091|-73.981834|40.768639|             5|2013000002|2013000002| 21336|2013000002|2013000002|2013-01-01 00:46:00|        CRD|1.0|  0.0|      6.5|\n",
      "|     2| START|2013-01-01 00:00:00|1970-01-01 00:00:00|-73.978325|40.778091|-73.981834|40.768639|             5|2013000002|2013000002| 23491|2013000002|2013000002|2013-01-01 00:50:00|        CRD|3.1|  0.0|     19.1|\n",
      "|     2| START|2013-01-01 00:00:00|1970-01-01 00:00:00|-73.978325|40.778091|-73.981834|40.768639|             5|2013000002|2013000002| 32973|2013000002|2013000002|2013-01-01 01:07:00|        CRD|3.1|  0.0|     19.1|\n",
      "|     2| START|2013-01-01 00:00:00|1970-01-01 00:00:00|-73.978325|40.778091|-73.981834|40.768639|             5|2013000002|2013000002| 44347|2013000002|2013000002|2013-01-01 01:28:00|        CSH|0.0|  0.0|     32.0|\n",
      "|     2| START|2013-01-01 00:00:00|1970-01-01 00:00:00|-73.978325|40.778091|-73.981834|40.768639|             5|2013000002|2013000002| 64251|2013000002|2013000002|2013-01-01 02:07:00|        CSH|0.0|  0.0|      6.5|\n",
      "|     2| START|2013-01-01 00:00:00|1970-01-01 00:00:00|-73.978325|40.778091|-73.981834|40.768639|             5|2013000002|2013000002| 67238|2013000002|2013000002|2013-01-01 02:13:00|        CSH|0.0|  0.0|      6.5|\n",
      "|     2| START|2013-01-01 00:00:00|1970-01-01 00:00:00|-73.978325|40.778091|-73.981834|40.768639|             5|2013000002|2013000002| 70269|2013000002|2013000002|2013-01-01 02:19:00|        CRD|2.5|  0.0|     13.0|\n",
      "|     2| START|2013-01-01 00:00:00|1970-01-01 00:00:00|-73.978325|40.778091|-73.981834|40.768639|             5|2013000002|2013000002| 77573|2013000002|2013000002|2013-01-01 02:34:00|        CSH|0.0|  0.0|     22.0|\n",
      "|     2| START|2013-01-01 00:00:00|1970-01-01 00:00:00|-73.978325|40.778091|-73.981834|40.768639|             5|2013000002|2013000002| 93705|2013000002|2013000002|2013-01-01 03:08:00|        CRD|2.0|  0.0|     15.0|\n",
      "|     2| START|2013-01-01 00:00:00|1970-01-01 00:00:00|-73.978325|40.778091|-73.981834|40.768639|             5|2013000002|2013000002| 98673|2013000002|2013000002|2013-01-01 03:19:00|        CSH|0.0|  0.0|      7.0|\n",
      "|     2| START|2013-01-01 00:00:00|1970-01-01 00:00:00|-73.978325|40.778091|-73.981834|40.768639|             5|2013000002|2013000002|101820|2013000002|2013000002|2013-01-01 03:26:00|        CSH|0.0|  0.0|      9.0|\n",
      "|     2| START|2013-01-01 00:00:00|1970-01-01 00:00:00|-73.978325|40.778091|-73.981834|40.768639|             5|2013000002|2013000002|106797|2013000002|2013000002|2013-01-01 03:38:00|        CSH|0.0|  0.0|     10.5|\n",
      "|     2| START|2013-01-01 00:00:00|1970-01-01 00:00:00|-73.978325|40.778091|-73.981834|40.768639|             5|2013000002|2013000002|114564|2013000002|2013000002|2013-01-01 03:58:00|        CRD|1.0|  0.0|      6.5|\n",
      "|     2| START|2013-01-01 00:00:00|1970-01-01 00:00:00|-73.978325|40.778091|-73.981834|40.768639|             5|2013000002|2013000002|115676|2013000002|2013000002|2013-01-01 04:01:00|        CRD|5.6|  4.8|     38.9|\n",
      "|     2| START|2013-01-01 00:00:00|1970-01-01 00:00:00|-73.978325|40.778091|-73.981834|40.768639|             5|2013000002|2013000002|126283|2013000002|2013000002|2013-01-01 04:32:00|        CSH|0.0|  0.0|     18.5|\n",
      "|     2| START|2013-01-01 00:00:00|1970-01-01 00:00:00|-73.978325|40.778091|-73.981834|40.768639|             5|2013000002|2013000002|132196|2013000002|2013000002|2013-01-01 04:54:00|        CRD|1.1|  0.0|      6.1|\n",
      "+------+------+-------------------+-------------------+----------+---------+----------+---------+--------------+----------+----------+------+----------+----------+-------------------+-----------+---+-----+---------+\n",
      "only showing top 20 rows\n",
      "\n"
     ]
    },
    {
     "name": "stderr",
     "output_type": "stream",
     "text": [
      "                                                                                \r"
     ]
    }
   ],
   "source": [
    "data_merged = merged.drop()\n",
    "data_merged.show()"
   ]
  },
  {
   "cell_type": "markdown",
   "id": "7778435f-a990-41ac-9b3e-6ac44be51557",
   "metadata": {},
   "source": [
    "Nous avons supprimer les valeurs nulles"
   ]
  },
  {
   "cell_type": "markdown",
   "id": "b451b464-59c3-4228-bcca-d5f2477b1ef6",
   "metadata": {},
   "source": [
    "### - Projection sur un sous ensemble d'attribut"
   ]
  },
  {
   "cell_type": "code",
   "execution_count": 48,
   "id": "3b7d5d46-f369-4eb4-a590-749cca8c4e2d",
   "metadata": {},
   "outputs": [
    {
     "name": "stderr",
     "output_type": "stream",
     "text": [
      "22/03/26 09:33:51 WARN CSVHeaderChecker: CSV header does not conform to the schema.\n",
      " Header: 2013-01-01 00:00:00, 6, 2013000006\n",
      " Schema: 2013-01-01 00:00:00, 68, 201300000610\n",
      "Expected: 68 but found: 6\n",
      "CSV file: file:///home/jovyan/nycTaxiRides.csv\n",
      "[Stage 65:>                                                         (0 + 1) / 1]\r"
     ]
    },
    {
     "name": "stdout",
     "output_type": "stream",
     "text": [
      "+-------------------+--------------+-----------+---+-----+---------+\n",
      "|            endTime|passengerCount|paymentType|tip|tolls|totalFare|\n",
      "+-------------------+--------------+-----------+---+-----+---------+\n",
      "|2013-01-01 00:00:00|             5|        CSH|0.0|  0.0|      7.0|\n",
      "|2013-01-01 00:00:00|             5|        CSH|0.0|  0.0|      9.0|\n",
      "|2013-01-01 00:00:00|             5|        CSH|0.0|  0.0|      8.0|\n",
      "|2013-01-01 00:00:00|             5|        CSH|0.0|  0.0|      9.0|\n",
      "|2013-01-01 00:00:00|             5|        CRD|1.0|  0.0|      6.5|\n",
      "|2013-01-01 00:00:00|             5|        CRD|3.1|  0.0|     19.1|\n",
      "|2013-01-01 00:00:00|             5|        CRD|3.1|  0.0|     19.1|\n",
      "|2013-01-01 00:00:00|             5|        CSH|0.0|  0.0|     32.0|\n",
      "|2013-01-01 00:00:00|             5|        CSH|0.0|  0.0|      6.5|\n",
      "|2013-01-01 00:00:00|             5|        CSH|0.0|  0.0|      6.5|\n",
      "|2013-01-01 00:00:00|             5|        CRD|2.5|  0.0|     13.0|\n",
      "|2013-01-01 00:00:00|             5|        CSH|0.0|  0.0|     22.0|\n",
      "|2013-01-01 00:00:00|             5|        CRD|2.0|  0.0|     15.0|\n",
      "|2013-01-01 00:00:00|             5|        CSH|0.0|  0.0|      7.0|\n",
      "|2013-01-01 00:00:00|             5|        CSH|0.0|  0.0|      9.0|\n",
      "|2013-01-01 00:00:00|             5|        CSH|0.0|  0.0|     10.5|\n",
      "|2013-01-01 00:00:00|             5|        CRD|1.0|  0.0|      6.5|\n",
      "|2013-01-01 00:00:00|             5|        CRD|5.6|  4.8|     38.9|\n",
      "|2013-01-01 00:00:00|             5|        CSH|0.0|  0.0|     18.5|\n",
      "|2013-01-01 00:00:00|             5|        CRD|1.1|  0.0|      6.1|\n",
      "+-------------------+--------------+-----------+---+-----+---------+\n",
      "only showing top 20 rows\n",
      "\n"
     ]
    },
    {
     "name": "stderr",
     "output_type": "stream",
     "text": [
      "                                                                                \r"
     ]
    }
   ],
   "source": [
    "import pyspark.sql.functions as F\n",
    "subDF=data_merged.select(F.col('endTime'),F.col('passengerCount'),F.col('paymentType'),F.col('tip'),F.col('tolls'),F.col('totalFare'))\n",
    "subDF.show()"
   ]
  },
  {
   "cell_type": "markdown",
   "id": "0682f8d2-b953-437f-bb48-cc7e532670eb",
   "metadata": {},
   "source": [
    "### - Selection de l'ensemble de données sur le quel nous allons effectuer le clustering"
   ]
  },
  {
   "cell_type": "code",
   "execution_count": 49,
   "id": "a0810c90-cbc6-4ea1-b70e-42b5ece4f4dd",
   "metadata": {},
   "outputs": [],
   "source": [
    "\n",
    "subDF2=merged.select('status',  'endTime',  'startLon',  'startLat',  'endLon',  'endLat',  'passengerCount',     'paymentType',  'tip',  'tolls',  'totalFare')"
   ]
  },
  {
   "cell_type": "code",
   "execution_count": 50,
   "id": "81127b0a-0727-4e82-881f-bb0f091238c5",
   "metadata": {},
   "outputs": [
    {
     "name": "stderr",
     "output_type": "stream",
     "text": [
      "22/03/26 09:34:17 WARN CSVHeaderChecker: CSV header does not conform to the schema.\n",
      " Header: START, 2013-01-01 00:00:00, -73.866135, 40.771091, -73.961334, 40.764912, 6, 2013000006\n",
      " Schema: START, 2013-01-01 00:00:00, -73.866135, 40.771091, -73.961334, 40.764912, 68, 201300000610\n",
      "Expected: 68 but found: 6\n",
      "CSV file: file:///home/jovyan/nycTaxiRides.csv\n",
      "[Stage 70:>                                                         (0 + 1) / 1]\r"
     ]
    },
    {
     "name": "stdout",
     "output_type": "stream",
     "text": [
      "+------+-------------------+----------+---------+----------+---------+--------------+-----------+---+-----+---------+\n",
      "|status|            endTime|  startLon| startLat|    endLon|   endLat|passengerCount|paymentType|tip|tolls|totalFare|\n",
      "+------+-------------------+----------+---------+----------+---------+--------------+-----------+---+-----+---------+\n",
      "| START|2013-01-01 00:00:00|-73.978325|40.778091|-73.981834|40.768639|             5|        CSH|0.0|  0.0|      7.0|\n",
      "| START|2013-01-01 00:00:00|-73.978325|40.778091|-73.981834|40.768639|             5|        CSH|0.0|  0.0|      9.0|\n",
      "| START|2013-01-01 00:00:00|-73.978325|40.778091|-73.981834|40.768639|             5|        CSH|0.0|  0.0|      8.0|\n",
      "| START|2013-01-01 00:00:00|-73.978325|40.778091|-73.981834|40.768639|             5|        CSH|0.0|  0.0|      9.0|\n",
      "| START|2013-01-01 00:00:00|-73.978325|40.778091|-73.981834|40.768639|             5|        CRD|1.0|  0.0|      6.5|\n",
      "| START|2013-01-01 00:00:00|-73.978325|40.778091|-73.981834|40.768639|             5|        CRD|3.1|  0.0|     19.1|\n",
      "| START|2013-01-01 00:00:00|-73.978325|40.778091|-73.981834|40.768639|             5|        CRD|3.1|  0.0|     19.1|\n",
      "| START|2013-01-01 00:00:00|-73.978325|40.778091|-73.981834|40.768639|             5|        CSH|0.0|  0.0|     32.0|\n",
      "| START|2013-01-01 00:00:00|-73.978325|40.778091|-73.981834|40.768639|             5|        CSH|0.0|  0.0|      6.5|\n",
      "| START|2013-01-01 00:00:00|-73.978325|40.778091|-73.981834|40.768639|             5|        CSH|0.0|  0.0|      6.5|\n",
      "| START|2013-01-01 00:00:00|-73.978325|40.778091|-73.981834|40.768639|             5|        CRD|2.5|  0.0|     13.0|\n",
      "| START|2013-01-01 00:00:00|-73.978325|40.778091|-73.981834|40.768639|             5|        CSH|0.0|  0.0|     22.0|\n",
      "| START|2013-01-01 00:00:00|-73.978325|40.778091|-73.981834|40.768639|             5|        CRD|2.0|  0.0|     15.0|\n",
      "| START|2013-01-01 00:00:00|-73.978325|40.778091|-73.981834|40.768639|             5|        CSH|0.0|  0.0|      7.0|\n",
      "| START|2013-01-01 00:00:00|-73.978325|40.778091|-73.981834|40.768639|             5|        CSH|0.0|  0.0|      9.0|\n",
      "| START|2013-01-01 00:00:00|-73.978325|40.778091|-73.981834|40.768639|             5|        CSH|0.0|  0.0|     10.5|\n",
      "| START|2013-01-01 00:00:00|-73.978325|40.778091|-73.981834|40.768639|             5|        CRD|1.0|  0.0|      6.5|\n",
      "| START|2013-01-01 00:00:00|-73.978325|40.778091|-73.981834|40.768639|             5|        CRD|5.6|  4.8|     38.9|\n",
      "| START|2013-01-01 00:00:00|-73.978325|40.778091|-73.981834|40.768639|             5|        CSH|0.0|  0.0|     18.5|\n",
      "| START|2013-01-01 00:00:00|-73.978325|40.778091|-73.981834|40.768639|             5|        CRD|1.1|  0.0|      6.1|\n",
      "+------+-------------------+----------+---------+----------+---------+--------------+-----------+---+-----+---------+\n",
      "only showing top 20 rows\n",
      "\n"
     ]
    },
    {
     "name": "stderr",
     "output_type": "stream",
     "text": [
      "                                                                                \r"
     ]
    }
   ],
   "source": [
    "subDF2.show()"
   ]
  },
  {
   "cell_type": "code",
   "execution_count": 51,
   "id": "b66ecedb-ec9d-4565-bd7c-d3e38edf73f6",
   "metadata": {},
   "outputs": [
    {
     "name": "stdout",
     "output_type": "stream",
     "text": [
      "root\n",
      " |-- status: string (nullable = true)\n",
      " |-- endTime: timestamp (nullable = true)\n",
      " |-- startLon: double (nullable = true)\n",
      " |-- startLat: double (nullable = true)\n",
      " |-- endLon: double (nullable = true)\n",
      " |-- endLat: double (nullable = true)\n",
      " |-- passengerCount: integer (nullable = true)\n",
      " |-- paymentType: string (nullable = true)\n",
      " |-- tip: double (nullable = true)\n",
      " |-- tolls: double (nullable = true)\n",
      " |-- totalFare: double (nullable = true)\n",
      "\n"
     ]
    }
   ],
   "source": [
    "subDF2.printSchema()"
   ]
  },
  {
   "cell_type": "markdown",
   "id": "0dc381d3-f294-4bda-92fb-a60ecb7c4e74",
   "metadata": {},
   "source": [
    "## - La partie Filtrage pour le nettoyage du fichier:"
   ]
  },
  {
   "cell_type": "markdown",
   "id": "a5a9cb0d-e649-40fa-a710-ade87afb23ce",
   "metadata": {},
   "source": [
    "### - Borner les tips en 01 et 100 euros"
   ]
  },
  {
   "cell_type": "code",
   "execution_count": 52,
   "id": "acef10fe-3435-4e35-974b-40d0e8b7a7a0",
   "metadata": {},
   "outputs": [
    {
     "name": "stderr",
     "output_type": "stream",
     "text": [
      "22/03/26 09:34:44 WARN CSVHeaderChecker: CSV header does not conform to the schema.\n",
      " Header: START, 2013-01-01 00:00:00, -73.866135, 40.771091, -73.961334, 40.764912, 6, 2013000006\n",
      " Schema: START, 2013-01-01 00:00:00, -73.866135, 40.771091, -73.961334, 40.764912, 68, 201300000610\n",
      "Expected: 68 but found: 6\n",
      "CSV file: file:///home/jovyan/nycTaxiRides.csv\n",
      "[Stage 75:>                                                         (0 + 1) / 1]\r"
     ]
    },
    {
     "name": "stdout",
     "output_type": "stream",
     "text": [
      "+------+-------------------+----------+---------+----------+---------+--------------+-----------+---+-----+---------+\n",
      "|status|            endTime|  startLon| startLat|    endLon|   endLat|passengerCount|paymentType|tip|tolls|totalFare|\n",
      "+------+-------------------+----------+---------+----------+---------+--------------+-----------+---+-----+---------+\n",
      "| START|2013-01-01 00:00:00|-73.978325|40.778091|-73.981834|40.768639|             5|        CRD|1.0|  0.0|      6.5|\n",
      "| START|2013-01-01 00:00:00|-73.978325|40.778091|-73.981834|40.768639|             5|        CRD|3.1|  0.0|     19.1|\n",
      "| START|2013-01-01 00:00:00|-73.978325|40.778091|-73.981834|40.768639|             5|        CRD|3.1|  0.0|     19.1|\n",
      "| START|2013-01-01 00:00:00|-73.978325|40.778091|-73.981834|40.768639|             5|        CRD|2.5|  0.0|     13.0|\n",
      "| START|2013-01-01 00:00:00|-73.978325|40.778091|-73.981834|40.768639|             5|        CRD|2.0|  0.0|     15.0|\n",
      "| START|2013-01-01 00:00:00|-73.978325|40.778091|-73.981834|40.768639|             5|        CRD|1.0|  0.0|      6.5|\n",
      "| START|2013-01-01 00:00:00|-73.978325|40.778091|-73.981834|40.768639|             5|        CRD|5.6|  4.8|     38.9|\n",
      "| START|2013-01-01 00:00:00|-73.978325|40.778091|-73.981834|40.768639|             5|        CRD|1.1|  0.0|      6.1|\n",
      "| START|2013-01-01 00:00:00|-73.978325|40.778091|-73.981834|40.768639|             5|        CRD|3.3|  0.0|     14.8|\n",
      "| START|2013-01-01 00:00:00|-73.978325|40.778091|-73.981834|40.768639|             5|        CRD|5.6|  0.0|     34.1|\n",
      "|   END|2013-01-01 00:06:00|-73.978325|40.778091|-73.981834|40.768639|             5|        CRD|1.0|  0.0|      6.5|\n",
      "|   END|2013-01-01 00:06:00|-73.978325|40.778091|-73.981834|40.768639|             5|        CRD|3.1|  0.0|     19.1|\n",
      "|   END|2013-01-01 00:06:00|-73.978325|40.778091|-73.981834|40.768639|             5|        CRD|3.1|  0.0|     19.1|\n",
      "|   END|2013-01-01 00:06:00|-73.978325|40.778091|-73.981834|40.768639|             5|        CRD|2.5|  0.0|     13.0|\n",
      "|   END|2013-01-01 00:06:00|-73.978325|40.778091|-73.981834|40.768639|             5|        CRD|2.0|  0.0|     15.0|\n",
      "|   END|2013-01-01 00:06:00|-73.978325|40.778091|-73.981834|40.768639|             5|        CRD|1.0|  0.0|      6.5|\n",
      "|   END|2013-01-01 00:06:00|-73.978325|40.778091|-73.981834|40.768639|             5|        CRD|5.6|  4.8|     38.9|\n",
      "|   END|2013-01-01 00:06:00|-73.978325|40.778091|-73.981834|40.768639|             5|        CRD|1.1|  0.0|      6.1|\n",
      "|   END|2013-01-01 00:06:00|-73.978325|40.778091|-73.981834|40.768639|             5|        CRD|3.3|  0.0|     14.8|\n",
      "|   END|2013-01-01 00:06:00|-73.978325|40.778091|-73.981834|40.768639|             5|        CRD|5.6|  0.0|     34.1|\n",
      "+------+-------------------+----------+---------+----------+---------+--------------+-----------+---+-----+---------+\n",
      "only showing top 20 rows\n",
      "\n"
     ]
    },
    {
     "name": "stderr",
     "output_type": "stream",
     "text": [
      "                                                                                \r"
     ]
    }
   ],
   "source": [
    "file=subDF2.select('status','endTime','startLon','startLat','endLon','endLat','passengerCount','paymentType','tip','tolls','totalFare').filter((subDF2.tip <100) & (subDF2.tip > 0))\n",
    "file.show()"
   ]
  },
  {
   "cell_type": "markdown",
   "id": "7a734f01-f2a6-423d-b75a-3c8c2c77614b",
   "metadata": {},
   "source": [
    "Là on a filtrer les pourboirs inférieure à 0.0 ce qui nous permet d'avoir des données cohérentes."
   ]
  },
  {
   "cell_type": "markdown",
   "id": "079d276a-4260-4dc3-ac76-03832313aa2a",
   "metadata": {},
   "source": [
    "### - Sélectionner les types de payement en carte ou cash"
   ]
  },
  {
   "cell_type": "code",
   "execution_count": 53,
   "id": "8e54d9f6-7633-44d5-8718-9a0eef199d57",
   "metadata": {},
   "outputs": [
    {
     "name": "stderr",
     "output_type": "stream",
     "text": [
      "22/03/26 09:35:13 WARN CSVHeaderChecker: CSV header does not conform to the schema.\n",
      " Header: START, 2013-01-01 00:00:00, -73.866135, 40.771091, -73.961334, 40.764912, 6, 2013000006\n",
      " Schema: START, 2013-01-01 00:00:00, -73.866135, 40.771091, -73.961334, 40.764912, 68, 201300000610\n",
      "Expected: 68 but found: 6\n",
      "CSV file: file:///home/jovyan/nycTaxiRides.csv\n",
      "[Stage 80:>                                                         (0 + 1) / 1]\r"
     ]
    },
    {
     "name": "stdout",
     "output_type": "stream",
     "text": [
      "+------+-------------------+----------+---------+----------+---------+--------------+-----------+---+-----+---------+\n",
      "|status|            endTime|  startLon| startLat|    endLon|   endLat|passengerCount|paymentType|tip|tolls|totalFare|\n",
      "+------+-------------------+----------+---------+----------+---------+--------------+-----------+---+-----+---------+\n",
      "| START|2013-01-01 00:00:00|-73.978325|40.778091|-73.981834|40.768639|             5|        CRD|1.0|  0.0|      6.5|\n",
      "| START|2013-01-01 00:00:00|-73.978325|40.778091|-73.981834|40.768639|             5|        CRD|3.1|  0.0|     19.1|\n",
      "| START|2013-01-01 00:00:00|-73.978325|40.778091|-73.981834|40.768639|             5|        CRD|3.1|  0.0|     19.1|\n",
      "| START|2013-01-01 00:00:00|-73.978325|40.778091|-73.981834|40.768639|             5|        CRD|2.5|  0.0|     13.0|\n",
      "| START|2013-01-01 00:00:00|-73.978325|40.778091|-73.981834|40.768639|             5|        CRD|2.0|  0.0|     15.0|\n",
      "| START|2013-01-01 00:00:00|-73.978325|40.778091|-73.981834|40.768639|             5|        CRD|1.0|  0.0|      6.5|\n",
      "| START|2013-01-01 00:00:00|-73.978325|40.778091|-73.981834|40.768639|             5|        CRD|5.6|  4.8|     38.9|\n",
      "| START|2013-01-01 00:00:00|-73.978325|40.778091|-73.981834|40.768639|             5|        CRD|1.1|  0.0|      6.1|\n",
      "| START|2013-01-01 00:00:00|-73.978325|40.778091|-73.981834|40.768639|             5|        CRD|3.3|  0.0|     14.8|\n",
      "| START|2013-01-01 00:00:00|-73.978325|40.778091|-73.981834|40.768639|             5|        CRD|5.6|  0.0|     34.1|\n",
      "|   END|2013-01-01 00:06:00|-73.978325|40.778091|-73.981834|40.768639|             5|        CRD|1.0|  0.0|      6.5|\n",
      "|   END|2013-01-01 00:06:00|-73.978325|40.778091|-73.981834|40.768639|             5|        CRD|3.1|  0.0|     19.1|\n",
      "|   END|2013-01-01 00:06:00|-73.978325|40.778091|-73.981834|40.768639|             5|        CRD|3.1|  0.0|     19.1|\n",
      "|   END|2013-01-01 00:06:00|-73.978325|40.778091|-73.981834|40.768639|             5|        CRD|2.5|  0.0|     13.0|\n",
      "|   END|2013-01-01 00:06:00|-73.978325|40.778091|-73.981834|40.768639|             5|        CRD|2.0|  0.0|     15.0|\n",
      "|   END|2013-01-01 00:06:00|-73.978325|40.778091|-73.981834|40.768639|             5|        CRD|1.0|  0.0|      6.5|\n",
      "|   END|2013-01-01 00:06:00|-73.978325|40.778091|-73.981834|40.768639|             5|        CRD|5.6|  4.8|     38.9|\n",
      "|   END|2013-01-01 00:06:00|-73.978325|40.778091|-73.981834|40.768639|             5|        CRD|1.1|  0.0|      6.1|\n",
      "|   END|2013-01-01 00:06:00|-73.978325|40.778091|-73.981834|40.768639|             5|        CRD|3.3|  0.0|     14.8|\n",
      "|   END|2013-01-01 00:06:00|-73.978325|40.778091|-73.981834|40.768639|             5|        CRD|5.6|  0.0|     34.1|\n",
      "+------+-------------------+----------+---------+----------+---------+--------------+-----------+---+-----+---------+\n",
      "only showing top 20 rows\n",
      "\n"
     ]
    },
    {
     "name": "stderr",
     "output_type": "stream",
     "text": [
      "                                                                                \r"
     ]
    }
   ],
   "source": [
    "filepaye= file.select('status',  'endTime',  'startLon',  'startLat',  'endLon',  'endLat',  'passengerCount',     'paymentType',  'tip',  'tolls',  'totalFare').filter((file.paymentType ==\"CRD\")|(file.paymentType ==\"CSH\"))\n",
    "filepaye.show()"
   ]
  },
  {
   "cell_type": "markdown",
   "id": "5c77ef2e-1946-4a61-967a-f4d8c7b379a4",
   "metadata": {},
   "source": [
    "### - Limiter les longitudes et la latittude -75 à -72 et 42 à 40"
   ]
  },
  {
   "cell_type": "code",
   "execution_count": 54,
   "id": "127326dd-7881-4771-9bcc-c7eb5422f0af",
   "metadata": {},
   "outputs": [
    {
     "name": "stderr",
     "output_type": "stream",
     "text": [
      "22/03/26 09:35:41 WARN CSVHeaderChecker: CSV header does not conform to the schema.\n",
      " Header: START, 2013-01-01 00:00:00, -73.866135, 40.771091, -73.961334, 40.764912, 6, 2013000006\n",
      " Schema: START, 2013-01-01 00:00:00, -73.866135, 40.771091, -73.961334, 40.764912, 68, 201300000610\n",
      "Expected: 68 but found: 6\n",
      "CSV file: file:///home/jovyan/nycTaxiRides.csv\n",
      "[Stage 85:>                                                         (0 + 1) / 1]\r"
     ]
    },
    {
     "name": "stdout",
     "output_type": "stream",
     "text": [
      "+------+-------------------+----------+---------+----------+---------+--------------+-----------+---+-----+---------+\n",
      "|status|            endTime|  startLon| startLat|    endLon|   endLat|passengerCount|paymentType|tip|tolls|totalFare|\n",
      "+------+-------------------+----------+---------+----------+---------+--------------+-----------+---+-----+---------+\n",
      "| START|2013-01-01 00:00:00|-73.978325|40.778091|-73.981834|40.768639|             5|        CRD|1.0|  0.0|      6.5|\n",
      "| START|2013-01-01 00:00:00|-73.978325|40.778091|-73.981834|40.768639|             5|        CRD|3.1|  0.0|     19.1|\n",
      "| START|2013-01-01 00:00:00|-73.978325|40.778091|-73.981834|40.768639|             5|        CRD|3.1|  0.0|     19.1|\n",
      "| START|2013-01-01 00:00:00|-73.978325|40.778091|-73.981834|40.768639|             5|        CRD|2.5|  0.0|     13.0|\n",
      "| START|2013-01-01 00:00:00|-73.978325|40.778091|-73.981834|40.768639|             5|        CRD|2.0|  0.0|     15.0|\n",
      "| START|2013-01-01 00:00:00|-73.978325|40.778091|-73.981834|40.768639|             5|        CRD|1.0|  0.0|      6.5|\n",
      "| START|2013-01-01 00:00:00|-73.978325|40.778091|-73.981834|40.768639|             5|        CRD|5.6|  4.8|     38.9|\n",
      "| START|2013-01-01 00:00:00|-73.978325|40.778091|-73.981834|40.768639|             5|        CRD|1.1|  0.0|      6.1|\n",
      "| START|2013-01-01 00:00:00|-73.978325|40.778091|-73.981834|40.768639|             5|        CRD|3.3|  0.0|     14.8|\n",
      "| START|2013-01-01 00:00:00|-73.978325|40.778091|-73.981834|40.768639|             5|        CRD|5.6|  0.0|     34.1|\n",
      "|   END|2013-01-01 00:06:00|-73.978325|40.778091|-73.981834|40.768639|             5|        CRD|1.0|  0.0|      6.5|\n",
      "|   END|2013-01-01 00:06:00|-73.978325|40.778091|-73.981834|40.768639|             5|        CRD|3.1|  0.0|     19.1|\n",
      "|   END|2013-01-01 00:06:00|-73.978325|40.778091|-73.981834|40.768639|             5|        CRD|3.1|  0.0|     19.1|\n",
      "|   END|2013-01-01 00:06:00|-73.978325|40.778091|-73.981834|40.768639|             5|        CRD|2.5|  0.0|     13.0|\n",
      "|   END|2013-01-01 00:06:00|-73.978325|40.778091|-73.981834|40.768639|             5|        CRD|2.0|  0.0|     15.0|\n",
      "|   END|2013-01-01 00:06:00|-73.978325|40.778091|-73.981834|40.768639|             5|        CRD|1.0|  0.0|      6.5|\n",
      "|   END|2013-01-01 00:06:00|-73.978325|40.778091|-73.981834|40.768639|             5|        CRD|5.6|  4.8|     38.9|\n",
      "|   END|2013-01-01 00:06:00|-73.978325|40.778091|-73.981834|40.768639|             5|        CRD|1.1|  0.0|      6.1|\n",
      "|   END|2013-01-01 00:06:00|-73.978325|40.778091|-73.981834|40.768639|             5|        CRD|3.3|  0.0|     14.8|\n",
      "|   END|2013-01-01 00:06:00|-73.978325|40.778091|-73.981834|40.768639|             5|        CRD|5.6|  0.0|     34.1|\n",
      "+------+-------------------+----------+---------+----------+---------+--------------+-----------+---+-----+---------+\n",
      "only showing top 20 rows\n",
      "\n"
     ]
    },
    {
     "name": "stderr",
     "output_type": "stream",
     "text": [
      "                                                                                \r"
     ]
    }
   ],
   "source": [
    "dtLon= filepaye.select('status',  'endTime',  'startLon',  'startLat',  'endLon',  'endLat',  'passengerCount',     'paymentType',  'tip',  'tolls',  'totalFare').filter((filepaye.startLon > -75)&(filepaye.startLon < -72 ))\n",
    "dtLon.show()"
   ]
  },
  {
   "cell_type": "code",
   "execution_count": 55,
   "id": "8ff1ce1b-a295-4800-a0e8-1f2636d41102",
   "metadata": {},
   "outputs": [
    {
     "name": "stderr",
     "output_type": "stream",
     "text": [
      "22/03/26 09:36:07 WARN CSVHeaderChecker: CSV header does not conform to the schema.\n",
      " Header: START, 2013-01-01 00:00:00, -73.866135, 40.771091, -73.961334, 40.764912, 6, 2013000006\n",
      " Schema: START, 2013-01-01 00:00:00, -73.866135, 40.771091, -73.961334, 40.764912, 68, 201300000610\n",
      "Expected: 68 but found: 6\n",
      "CSV file: file:///home/jovyan/nycTaxiRides.csv\n",
      "[Stage 90:>                                                         (0 + 1) / 1]\r"
     ]
    },
    {
     "name": "stdout",
     "output_type": "stream",
     "text": [
      "+------+-------------------+----------+---------+----------+---------+--------------+-----------+---+-----+---------+\n",
      "|status|            endTime|  startLon| startLat|    endLon|   endLat|passengerCount|paymentType|tip|tolls|totalFare|\n",
      "+------+-------------------+----------+---------+----------+---------+--------------+-----------+---+-----+---------+\n",
      "| START|2013-01-01 00:00:00|-73.978325|40.778091|-73.981834|40.768639|             5|        CRD|1.0|  0.0|      6.5|\n",
      "| START|2013-01-01 00:00:00|-73.978325|40.778091|-73.981834|40.768639|             5|        CRD|3.1|  0.0|     19.1|\n",
      "| START|2013-01-01 00:00:00|-73.978325|40.778091|-73.981834|40.768639|             5|        CRD|3.1|  0.0|     19.1|\n",
      "| START|2013-01-01 00:00:00|-73.978325|40.778091|-73.981834|40.768639|             5|        CRD|2.5|  0.0|     13.0|\n",
      "| START|2013-01-01 00:00:00|-73.978325|40.778091|-73.981834|40.768639|             5|        CRD|2.0|  0.0|     15.0|\n",
      "| START|2013-01-01 00:00:00|-73.978325|40.778091|-73.981834|40.768639|             5|        CRD|1.0|  0.0|      6.5|\n",
      "| START|2013-01-01 00:00:00|-73.978325|40.778091|-73.981834|40.768639|             5|        CRD|5.6|  4.8|     38.9|\n",
      "| START|2013-01-01 00:00:00|-73.978325|40.778091|-73.981834|40.768639|             5|        CRD|1.1|  0.0|      6.1|\n",
      "| START|2013-01-01 00:00:00|-73.978325|40.778091|-73.981834|40.768639|             5|        CRD|3.3|  0.0|     14.8|\n",
      "| START|2013-01-01 00:00:00|-73.978325|40.778091|-73.981834|40.768639|             5|        CRD|5.6|  0.0|     34.1|\n",
      "|   END|2013-01-01 00:06:00|-73.978325|40.778091|-73.981834|40.768639|             5|        CRD|1.0|  0.0|      6.5|\n",
      "|   END|2013-01-01 00:06:00|-73.978325|40.778091|-73.981834|40.768639|             5|        CRD|3.1|  0.0|     19.1|\n",
      "|   END|2013-01-01 00:06:00|-73.978325|40.778091|-73.981834|40.768639|             5|        CRD|3.1|  0.0|     19.1|\n",
      "|   END|2013-01-01 00:06:00|-73.978325|40.778091|-73.981834|40.768639|             5|        CRD|2.5|  0.0|     13.0|\n",
      "|   END|2013-01-01 00:06:00|-73.978325|40.778091|-73.981834|40.768639|             5|        CRD|2.0|  0.0|     15.0|\n",
      "|   END|2013-01-01 00:06:00|-73.978325|40.778091|-73.981834|40.768639|             5|        CRD|1.0|  0.0|      6.5|\n",
      "|   END|2013-01-01 00:06:00|-73.978325|40.778091|-73.981834|40.768639|             5|        CRD|5.6|  4.8|     38.9|\n",
      "|   END|2013-01-01 00:06:00|-73.978325|40.778091|-73.981834|40.768639|             5|        CRD|1.1|  0.0|      6.1|\n",
      "|   END|2013-01-01 00:06:00|-73.978325|40.778091|-73.981834|40.768639|             5|        CRD|3.3|  0.0|     14.8|\n",
      "|   END|2013-01-01 00:06:00|-73.978325|40.778091|-73.981834|40.768639|             5|        CRD|5.6|  0.0|     34.1|\n",
      "+------+-------------------+----------+---------+----------+---------+--------------+-----------+---+-----+---------+\n",
      "only showing top 20 rows\n",
      "\n"
     ]
    },
    {
     "name": "stderr",
     "output_type": "stream",
     "text": [
      "                                                                                \r"
     ]
    }
   ],
   "source": [
    "dtFinal=dtLon.select('status',  'endTime',  'startLon',  'startLat',  'endLon',  'endLat',  'passengerCount',     'paymentType',  'tip',  'tolls',  'totalFare').filter((dtLon.startLat> -40)&(dtLon.startLat < 42 ))\n",
    "dtFinal.show()"
   ]
  },
  {
   "cell_type": "markdown",
   "id": "38f28563-9ce5-4d13-9ae6-2e035244dd4c",
   "metadata": {},
   "source": [
    "### - Transformation des attribut catégoriels (catégorie -> numérique)"
   ]
  },
  {
   "cell_type": "code",
   "execution_count": 48,
   "id": "38deff6b-1c9e-4911-aab9-3df56bebacea",
   "metadata": {},
   "outputs": [
    {
     "name": "stderr",
     "output_type": "stream",
     "text": [
      "22/03/26 08:59:18 WARN CSVHeaderChecker: CSV header does not conform to the schema.\n",
      " Header: -73.866135, 40.771091, 2013000006\n",
      " Schema: -73.866135, 40.771091, 201300000610\n",
      "Expected: 201300000610 but found: 2013000006\n",
      "CSV file: file:///home/jovyan/data2.csv\n",
      "                                                                                \r"
     ]
    }
   ],
   "source": [
    "from pyspark.ml.feature import StringIndexer\n",
    "indexer=StringIndexer(inputCol=\"paymentType\",outputCol=\"pType\", handleInvalid=\"skip\")\n",
    "newIndexed=indexer.fit(dtFinal).transform(dtFinal)"
   ]
  },
  {
   "cell_type": "markdown",
   "id": "40421cdd-11dd-4396-b9da-5c91f597fbfc",
   "metadata": {},
   "source": [
    "# Fouille de données: Algorithme Kmeans"
   ]
  },
  {
   "cell_type": "markdown",
   "id": "e232b979-6737-4be3-a37c-6df41502c27b",
   "metadata": {},
   "source": [
    "Dans cette partie, nous avons effectué le clustering sur une partie des datasets initiaux qui étaientt trop volimineux"
   ]
  },
  {
   "cell_type": "markdown",
   "id": "5bf925ea-a21e-485e-bbad-4d6668b1222c",
   "metadata": {},
   "source": [
    "### - Générer un dataset propre pour le clustering Kmeans:"
   ]
  },
  {
   "cell_type": "code",
   "execution_count": 49,
   "id": "5e0b373b-dd5a-443a-990f-084c9e898233",
   "metadata": {},
   "outputs": [],
   "source": [
    "from pyspark.ml.clustering import KMeans\n",
    "from pyspark.ml.feature import VectorAssembler\n",
    "features=('startLon',  'startLat',  'endLon',  'endLat',  'passengerCount',   'tip',  'tolls',  'totalFare',  'pType')\n",
    "newData=VectorAssembler(inputCols=features, outputCol=\"features\", handleInvalid=\"skip\")\n",
    "dataset=newData.transform(newIndexed)\n",
    "d=dataset.select(\"features\")\n",
    "#modelKmeans.fit(dataset)"
   ]
  },
  {
   "cell_type": "markdown",
   "id": "7f541d54-5657-4ea5-9b6a-fe7a1fb7a9f0",
   "metadata": {},
   "source": [
    "### - Execution de Kmeans avec k=2 et un nombre maximal d'itérations égale à 10"
   ]
  },
  {
   "cell_type": "code",
   "execution_count": 51,
   "id": "252927d0-ee89-499d-b732-13ead541d8ab",
   "metadata": {},
   "outputs": [
    {
     "name": "stderr",
     "output_type": "stream",
     "text": [
      "22/03/26 09:00:44 WARN CSVHeaderChecker: CSV header does not conform to the schema.\n",
      " Header: -73.866135, 40.771091, -73.961334, 40.764912, 6, 2013000006\n",
      " Schema: -73.866135, 40.771091, -73.961334, 40.764912, 68, 201300000610\n",
      "Expected: 68 but found: 6\n",
      "CSV file: file:///home/jovyan/data2.csv\n",
      "22/03/26 09:00:44 WARN CSVHeaderChecker: CSV header does not conform to the schema.\n",
      " Header: -73.866135, 40.771091, -73.961334, 40.764912, 6, 2013000006\n",
      " Schema: -73.866135, 40.771091, -73.961334, 40.764912, 68, 201300000610\n",
      "Expected: 68 but found: 6\n",
      "CSV file: file:///home/jovyan/data2.csv\n",
      "22/03/26 09:00:47 WARN CSVHeaderChecker: CSV header does not conform to the schema.\n",
      " Header: -73.866135, 40.771091, -73.961334, 40.764912, 6, 2013000006\n",
      " Schema: -73.866135, 40.771091, -73.961334, 40.764912, 68, 201300000610\n",
      "Expected: 68 but found: 6\n",
      "CSV file: file:///home/jovyan/data2.csv\n"
     ]
    },
    {
     "data": {
      "text/plain": [
       "KMeansModel: uid=KMeans_ba21ad0df28e, k=2, distanceMeasure=euclidean, numFeatures=9"
      ]
     },
     "execution_count": 51,
     "metadata": {},
     "output_type": "execute_result"
    }
   ],
   "source": [
    "modelKmeans=KMeans().setK(2).setSeed(1).setFeaturesCol(\"features\").setMaxIter(10)\n",
    "modelKmeans.fit(d)"
   ]
  },
  {
   "cell_type": "markdown",
   "id": "83506e5b-9ffa-43e5-be81-a9602eaa3c95",
   "metadata": {},
   "source": [
    "### - Execution de Kmeans avec k=5 et un nombre maximal d'itérations égale à 100"
   ]
  },
  {
   "cell_type": "code",
   "execution_count": 50,
   "id": "e230e0ba-afbe-453d-b9f1-541f3e74af69",
   "metadata": {},
   "outputs": [
    {
     "name": "stderr",
     "output_type": "stream",
     "text": [
      "22/03/26 09:00:05 WARN CSVHeaderChecker: CSV header does not conform to the schema.\n",
      " Header: -73.866135, 40.771091, -73.961334, 40.764912, 6, 2013000006\n",
      " Schema: -73.866135, 40.771091, -73.961334, 40.764912, 68, 201300000610\n",
      "Expected: 68 but found: 6\n",
      "CSV file: file:///home/jovyan/data2.csv\n",
      "22/03/26 09:00:05 WARN CSVHeaderChecker: CSV header does not conform to the schema.\n",
      " Header: -73.866135, 40.771091, -73.961334, 40.764912, 6, 2013000006\n",
      " Schema: -73.866135, 40.771091, -73.961334, 40.764912, 68, 201300000610\n",
      "Expected: 68 but found: 6\n",
      "CSV file: file:///home/jovyan/data2.csv\n",
      "22/03/26 09:00:10 WARN CSVHeaderChecker: CSV header does not conform to the schema.\n",
      " Header: -73.866135, 40.771091, -73.961334, 40.764912, 6, 2013000006\n",
      " Schema: -73.866135, 40.771091, -73.961334, 40.764912, 68, 201300000610\n",
      "Expected: 68 but found: 6\n",
      "CSV file: file:///home/jovyan/data2.csv\n"
     ]
    },
    {
     "data": {
      "text/plain": [
       "KMeansModel: uid=KMeans_99f17df40a84, k=5, distanceMeasure=euclidean, numFeatures=9"
      ]
     },
     "execution_count": 50,
     "metadata": {},
     "output_type": "execute_result"
    }
   ],
   "source": [
    "modelKmeans2=KMeans().setK(5).setSeed(1).setFeaturesCol(\"features\").setMaxIter(100)\n",
    "modelKmeans2.fit(d)"
   ]
  },
  {
   "cell_type": "markdown",
   "id": "bc595d79-5e32-4ef8-a88b-36d36374ff1a",
   "metadata": {},
   "source": [
    "### - Execution de Kmeans avec k=5 et un nombre maximal d'itérations égale à 1000"
   ]
  },
  {
   "cell_type": "code",
   "execution_count": 52,
   "id": "176aaf23-3095-406b-9e34-631e6cbf6fe6",
   "metadata": {},
   "outputs": [
    {
     "name": "stderr",
     "output_type": "stream",
     "text": [
      "22/03/26 09:00:54 WARN CSVHeaderChecker: CSV header does not conform to the schema.\n",
      " Header: -73.866135, 40.771091, -73.961334, 40.764912, 6, 2013000006\n",
      " Schema: -73.866135, 40.771091, -73.961334, 40.764912, 68, 201300000610\n",
      "Expected: 68 but found: 6\n",
      "CSV file: file:///home/jovyan/data2.csv\n",
      "22/03/26 09:00:54 WARN CSVHeaderChecker: CSV header does not conform to the schema.\n",
      " Header: -73.866135, 40.771091, -73.961334, 40.764912, 6, 2013000006\n",
      " Schema: -73.866135, 40.771091, -73.961334, 40.764912, 68, 201300000610\n",
      "Expected: 68 but found: 6\n",
      "CSV file: file:///home/jovyan/data2.csv\n",
      "22/03/26 09:00:57 WARN CSVHeaderChecker: CSV header does not conform to the schema.\n",
      " Header: -73.866135, 40.771091, -73.961334, 40.764912, 6, 2013000006\n",
      " Schema: -73.866135, 40.771091, -73.961334, 40.764912, 68, 201300000610\n",
      "Expected: 68 but found: 6\n",
      "CSV file: file:///home/jovyan/data2.csv\n"
     ]
    },
    {
     "data": {
      "text/plain": [
       "KMeansModel: uid=KMeans_4658bd3c3442, k=5, distanceMeasure=euclidean, numFeatures=9"
      ]
     },
     "execution_count": 52,
     "metadata": {},
     "output_type": "execute_result"
    }
   ],
   "source": [
    "modelKmeans3=KMeans().setK(5).setSeed(1).setFeaturesCol(\"features\").setMaxIter(1000)\n",
    "modelKmeans3.fit(d)"
   ]
  },
  {
   "cell_type": "markdown",
   "id": "ad54275f-f391-42b3-b2b6-0c75e268b744",
   "metadata": {},
   "source": [
    "### - Silhouette:"
   ]
  },
  {
   "cell_type": "code",
   "execution_count": 69,
   "id": "cf63f45f-1035-49ee-b002-e5d7c43dd8c1",
   "metadata": {},
   "outputs": [
    {
     "name": "stderr",
     "output_type": "stream",
     "text": [
      "Exception ignored in: <function JavaWrapper.__del__ at 0x7f0b2ea488b0>\n",
      "Traceback (most recent call last):\n",
      "  File \"/usr/local/spark/python/pyspark/ml/wrapper.py\", line 39, in __del__\n",
      "    if SparkContext._active_spark_context and self._java_obj is not None:\n",
      "AttributeError: 'ClusteringEvaluator' object has no attribute '_java_obj'\n",
      "Exception ignored in: <function JavaWrapper.__del__ at 0x7f0b2ea488b0>\n",
      "Traceback (most recent call last):\n",
      "  File \"/usr/local/spark/python/pyspark/ml/wrapper.py\", line 39, in __del__\n",
      "    if SparkContext._active_spark_context and self._java_obj is not None:\n",
      "AttributeError: 'ClusteringEvaluator' object has no attribute '_java_obj'\n",
      "Exception ignored in: <function JavaWrapper.__del__ at 0x7f0b2ea488b0>\n",
      "Traceback (most recent call last):\n",
      "  File \"/usr/local/spark/python/pyspark/ml/wrapper.py\", line 39, in __del__\n",
      "    if SparkContext._active_spark_context and self._java_obj is not None:\n",
      "AttributeError: 'ClusteringEvaluator' object has no attribute '_java_obj'\n",
      "Exception ignored in: <function JavaWrapper.__del__ at 0x7f0b2ea488b0>\n",
      "Traceback (most recent call last):\n",
      "  File \"/usr/local/spark/python/pyspark/ml/wrapper.py\", line 39, in __del__\n",
      "    if SparkContext._active_spark_context and self._java_obj is not None:\n",
      "AttributeError: 'ClusteringEvaluator' object has no attribute '_java_obj'\n",
      "Exception ignored in: <function JavaWrapper.__del__ at 0x7f0b2ea488b0>\n",
      "Traceback (most recent call last):\n",
      "  File \"/usr/local/spark/python/pyspark/ml/wrapper.py\", line 39, in __del__\n",
      "    if SparkContext._active_spark_context and self._java_obj is not None:\n",
      "AttributeError: 'ClusteringEvaluator' object has no attribute '_java_obj'\n",
      "Exception ignored in: <function JavaWrapper.__del__ at 0x7f0b2ea488b0>\n",
      "Traceback (most recent call last):\n",
      "  File \"/usr/local/spark/python/pyspark/ml/wrapper.py\", line 39, in __del__\n",
      "    if SparkContext._active_spark_context and self._java_obj is not None:\n",
      "AttributeError: 'ClusteringEvaluator' object has no attribute '_java_obj'\n",
      "Exception ignored in: <function JavaWrapper.__del__ at 0x7f0b2ea488b0>\n",
      "Traceback (most recent call last):\n",
      "  File \"/usr/local/spark/python/pyspark/ml/wrapper.py\", line 39, in __del__\n",
      "    if SparkContext._active_spark_context and self._java_obj is not None:\n",
      "AttributeError: 'ClusteringEvaluator' object has no attribute '_java_obj'\n",
      "Exception ignored in: <function JavaWrapper.__del__ at 0x7f0b2ea488b0>\n",
      "Traceback (most recent call last):\n",
      "  File \"/usr/local/spark/python/pyspark/ml/wrapper.py\", line 39, in __del__\n",
      "    if SparkContext._active_spark_context and self._java_obj is not None:\n",
      "AttributeError: 'KMeans' object has no attribute '_java_obj'\n",
      "Exception ignored in: <function JavaWrapper.__del__ at 0x7f0b2ea488b0>\n",
      "Traceback (most recent call last):\n",
      "  File \"/usr/local/spark/python/pyspark/ml/wrapper.py\", line 39, in __del__\n",
      "    if SparkContext._active_spark_context and self._java_obj is not None:\n",
      "AttributeError: 'ClusteringEvaluator' object has no attribute '_java_obj'\n",
      "22/03/26 09:15:20 WARN CSVHeaderChecker: CSV header does not conform to the schema.\n",
      " Header: -73.866135, 40.771091, -73.961334, 40.764912, 6, 2013000006\n",
      " Schema: -73.866135, 40.771091, -73.961334, 40.764912, 68, 201300000610\n",
      "Expected: 68 but found: 6\n",
      "CSV file: file:///home/jovyan/data2.csv\n"
     ]
    },
    {
     "name": "stdout",
     "output_type": "stream",
     "text": [
      "+--------------------+--------------------+\n",
      "|            features|        standardized|\n",
      "+--------------------+--------------------+\n",
      "|[-73.870834,40.77...|[-1678.8706943183...|\n",
      "|[-73.970207,40.76...|[-1681.1291555874...|\n",
      "|[-73.973,40.79314...|[-1681.1926324103...|\n",
      "|[-73.973907,40.74...|[-1681.2132459006...|\n",
      "|[-73.975723,40.78...|[-1681.2545183354...|\n",
      "|[-73.976761,40.75...|[-1681.2781090774...|\n",
      "|[-73.981575,40.76...|[-1681.3875173930...|\n",
      "|[-73.983597,40.75...|[-1681.4334716128...|\n",
      "|[-73.984016,40.74...|[-1681.4429942726...|\n",
      "|[-73.985603,40.74...|[-1681.4790621988...|\n",
      "|[-73.988976,40.72...|[-1681.5557207465...|\n",
      "|[-73.989189,40.74...|[-1681.5605616213...|\n",
      "|[-73.989349,40.77...|[-1681.5641979592...|\n",
      "|[-73.989616,40.72...|[-1681.5702660980...|\n",
      "|[-73.990608,40.73...|[-1681.5928113928...|\n",
      "|[-73.996132,40.73...|[-1681.7183559577...|\n",
      "|[-73.998581,40.75...|[-1681.7740146542...|\n",
      "|[-73.999878,40.74...|[-1681.8034917181...|\n",
      "|[-74.000526,40.73...|[-1681.8182188865...|\n",
      "|[-74.001732,40.71...|[-1681.8456277832...|\n",
      "+--------------------+--------------------+\n",
      "only showing top 20 rows\n",
      "\n"
     ]
    },
    {
     "name": "stderr",
     "output_type": "stream",
     "text": [
      "22/03/26 09:15:21 WARN CSVHeaderChecker: CSV header does not conform to the schema.\n",
      " Header: -73.866135, 40.771091, -73.961334, 40.764912, 6, 2013000006\n",
      " Schema: -73.866135, 40.771091, -73.961334, 40.764912, 68, 201300000610\n",
      "Expected: 68 but found: 6\n",
      "CSV file: file:///home/jovyan/data2.csv\n"
     ]
    }
   ],
   "source": [
    "from pyspark.ml.feature import StandardScaler\n",
    "from pyspark.ml.clustering import KMeans\n",
    "from pyspark.ml.evaluation import ClusteringEvaluator\n",
    "scale=StandardScaler(inputCol='features',outputCol='standardized')\n",
    "data_scale=scale.fit(d)\n",
    "data_scale_output=data_scale.transform(d)\n",
    "data_scale_output.show()"
   ]
  },
  {
   "cell_type": "code",
   "execution_count": 73,
   "id": "32d6b2e6-f29f-4c87-b764-f00c80eb4767",
   "metadata": {},
   "outputs": [
    {
     "name": "stderr",
     "output_type": "stream",
     "text": [
      "22/03/26 09:18:12 WARN CSVHeaderChecker: CSV header does not conform to the schema.\n",
      " Header: -73.866135, 40.771091, -73.961334, 40.764912, 6, 2013000006\n",
      " Schema: -73.866135, 40.771091, -73.961334, 40.764912, 68, 201300000610\n",
      "Expected: 68 but found: 6\n",
      "CSV file: file:///home/jovyan/data2.csv\n",
      "22/03/26 09:18:12 WARN CSVHeaderChecker: CSV header does not conform to the schema.\n",
      " Header: -73.866135, 40.771091, -73.961334, 40.764912, 6, 2013000006\n",
      " Schema: -73.866135, 40.771091, -73.961334, 40.764912, 68, 201300000610\n",
      "Expected: 68 but found: 6\n",
      "CSV file: file:///home/jovyan/data2.csv\n",
      "22/03/26 09:18:16 WARN CSVHeaderChecker: CSV header does not conform to the schema.\n",
      " Header: -73.866135, 40.771091, -73.961334, 40.764912, 6, 2013000006\n",
      " Schema: -73.866135, 40.771091, -73.961334, 40.764912, 68, 201300000610\n",
      "Expected: 68 but found: 6\n",
      "CSV file: file:///home/jovyan/data2.csv\n",
      "22/03/26 09:18:16 WARN CSVHeaderChecker: CSV header does not conform to the schema.\n",
      " Header: -73.866135, 40.771091, -73.961334, 40.764912, 6, 2013000006\n",
      " Schema: -73.866135, 40.771091, -73.961334, 40.764912, 68, 201300000610\n",
      "Expected: 68 but found: 6\n",
      "CSV file: file:///home/jovyan/data2.csv\n",
      "22/03/26 09:18:17 WARN CSVHeaderChecker: CSV header does not conform to the schema.\n",
      " Header: -73.866135, 40.771091, -73.961334, 40.764912, 6, 2013000006\n",
      " Schema: -73.866135, 40.771091, -73.961334, 40.764912, 68, 201300000610\n",
      "Expected: 68 but found: 6\n",
      "CSV file: file:///home/jovyan/data2.csv\n"
     ]
    },
    {
     "name": "stdout",
     "output_type": "stream",
     "text": [
      "Silhouette Score: 0.7319360693259834\n"
     ]
    },
    {
     "name": "stderr",
     "output_type": "stream",
     "text": [
      "22/03/26 09:18:17 WARN CSVHeaderChecker: CSV header does not conform to the schema.\n",
      " Header: -73.866135, 40.771091, -73.961334, 40.764912, 6, 2013000006\n",
      " Schema: -73.866135, 40.771091, -73.961334, 40.764912, 68, 201300000610\n",
      "Expected: 68 but found: 6\n",
      "CSV file: file:///home/jovyan/data2.csv\n",
      "22/03/26 09:18:17 WARN CSVHeaderChecker: CSV header does not conform to the schema.\n",
      " Header: -73.866135, 40.771091, -73.961334, 40.764912, 6, 2013000006\n",
      " Schema: -73.866135, 40.771091, -73.961334, 40.764912, 68, 201300000610\n",
      "Expected: 68 but found: 6\n",
      "CSV file: file:///home/jovyan/data2.csv\n",
      "22/03/26 09:18:20 WARN CSVHeaderChecker: CSV header does not conform to the schema.\n",
      " Header: -73.866135, 40.771091, -73.961334, 40.764912, 6, 2013000006\n",
      " Schema: -73.866135, 40.771091, -73.961334, 40.764912, 68, 201300000610\n",
      "Expected: 68 but found: 6\n",
      "CSV file: file:///home/jovyan/data2.csv\n",
      "22/03/26 09:18:21 WARN CSVHeaderChecker: CSV header does not conform to the schema.\n",
      " Header: -73.866135, 40.771091, -73.961334, 40.764912, 6, 2013000006\n",
      " Schema: -73.866135, 40.771091, -73.961334, 40.764912, 68, 201300000610\n",
      "Expected: 68 but found: 6\n",
      "CSV file: file:///home/jovyan/data2.csv\n",
      "22/03/26 09:18:21 WARN CSVHeaderChecker: CSV header does not conform to the schema.\n",
      " Header: -73.866135, 40.771091, -73.961334, 40.764912, 6, 2013000006\n",
      " Schema: -73.866135, 40.771091, -73.961334, 40.764912, 68, 201300000610\n",
      "Expected: 68 but found: 6\n",
      "CSV file: file:///home/jovyan/data2.csv\n"
     ]
    },
    {
     "name": "stdout",
     "output_type": "stream",
     "text": [
      "Silhouette Score: 0.2888241141314967\n"
     ]
    },
    {
     "name": "stderr",
     "output_type": "stream",
     "text": [
      "22/03/26 09:18:22 WARN CSVHeaderChecker: CSV header does not conform to the schema.\n",
      " Header: -73.866135, 40.771091, -73.961334, 40.764912, 6, 2013000006\n",
      " Schema: -73.866135, 40.771091, -73.961334, 40.764912, 68, 201300000610\n",
      "Expected: 68 but found: 6\n",
      "CSV file: file:///home/jovyan/data2.csv\n",
      "22/03/26 09:18:22 WARN CSVHeaderChecker: CSV header does not conform to the schema.\n",
      " Header: -73.866135, 40.771091, -73.961334, 40.764912, 6, 2013000006\n",
      " Schema: -73.866135, 40.771091, -73.961334, 40.764912, 68, 201300000610\n",
      "Expected: 68 but found: 6\n",
      "CSV file: file:///home/jovyan/data2.csv\n",
      "22/03/26 09:18:24 WARN CSVHeaderChecker: CSV header does not conform to the schema.\n",
      " Header: -73.866135, 40.771091, -73.961334, 40.764912, 6, 2013000006\n",
      " Schema: -73.866135, 40.771091, -73.961334, 40.764912, 68, 201300000610\n",
      "Expected: 68 but found: 6\n",
      "CSV file: file:///home/jovyan/data2.csv\n",
      "22/03/26 09:18:25 WARN CSVHeaderChecker: CSV header does not conform to the schema.\n",
      " Header: -73.866135, 40.771091, -73.961334, 40.764912, 6, 2013000006\n",
      " Schema: -73.866135, 40.771091, -73.961334, 40.764912, 68, 201300000610\n",
      "Expected: 68 but found: 6\n",
      "CSV file: file:///home/jovyan/data2.csv\n",
      "22/03/26 09:18:25 WARN CSVHeaderChecker: CSV header does not conform to the schema.\n",
      " Header: -73.866135, 40.771091, -73.961334, 40.764912, 6, 2013000006\n",
      " Schema: -73.866135, 40.771091, -73.961334, 40.764912, 68, 201300000610\n",
      "Expected: 68 but found: 6\n",
      "CSV file: file:///home/jovyan/data2.csv\n"
     ]
    },
    {
     "name": "stdout",
     "output_type": "stream",
     "text": [
      "Silhouette Score: 0.42361884167755665\n"
     ]
    },
    {
     "name": "stderr",
     "output_type": "stream",
     "text": [
      "22/03/26 09:18:26 WARN CSVHeaderChecker: CSV header does not conform to the schema.\n",
      " Header: -73.866135, 40.771091, -73.961334, 40.764912, 6, 2013000006\n",
      " Schema: -73.866135, 40.771091, -73.961334, 40.764912, 68, 201300000610\n",
      "Expected: 68 but found: 6\n",
      "CSV file: file:///home/jovyan/data2.csv\n",
      "22/03/26 09:18:26 WARN CSVHeaderChecker: CSV header does not conform to the schema.\n",
      " Header: -73.866135, 40.771091, -73.961334, 40.764912, 6, 2013000006\n",
      " Schema: -73.866135, 40.771091, -73.961334, 40.764912, 68, 201300000610\n",
      "Expected: 68 but found: 6\n",
      "CSV file: file:///home/jovyan/data2.csv\n",
      "22/03/26 09:18:29 WARN CSVHeaderChecker: CSV header does not conform to the schema.\n",
      " Header: -73.866135, 40.771091, -73.961334, 40.764912, 6, 2013000006\n",
      " Schema: -73.866135, 40.771091, -73.961334, 40.764912, 68, 201300000610\n",
      "Expected: 68 but found: 6\n",
      "CSV file: file:///home/jovyan/data2.csv\n",
      "22/03/26 09:18:30 WARN CSVHeaderChecker: CSV header does not conform to the schema.\n",
      " Header: -73.866135, 40.771091, -73.961334, 40.764912, 6, 2013000006\n",
      " Schema: -73.866135, 40.771091, -73.961334, 40.764912, 68, 201300000610\n",
      "Expected: 68 but found: 6\n",
      "CSV file: file:///home/jovyan/data2.csv\n",
      "22/03/26 09:18:30 WARN CSVHeaderChecker: CSV header does not conform to the schema.\n",
      " Header: -73.866135, 40.771091, -73.961334, 40.764912, 6, 2013000006\n",
      " Schema: -73.866135, 40.771091, -73.961334, 40.764912, 68, 201300000610\n",
      "Expected: 68 but found: 6\n",
      "CSV file: file:///home/jovyan/data2.csv\n"
     ]
    },
    {
     "name": "stdout",
     "output_type": "stream",
     "text": [
      "Silhouette Score: 0.32249462524820255\n"
     ]
    },
    {
     "name": "stderr",
     "output_type": "stream",
     "text": [
      "22/03/26 09:18:31 WARN CSVHeaderChecker: CSV header does not conform to the schema.\n",
      " Header: -73.866135, 40.771091, -73.961334, 40.764912, 6, 2013000006\n",
      " Schema: -73.866135, 40.771091, -73.961334, 40.764912, 68, 201300000610\n",
      "Expected: 68 but found: 6\n",
      "CSV file: file:///home/jovyan/data2.csv\n",
      "22/03/26 09:18:31 WARN CSVHeaderChecker: CSV header does not conform to the schema.\n",
      " Header: -73.866135, 40.771091, -73.961334, 40.764912, 6, 2013000006\n",
      " Schema: -73.866135, 40.771091, -73.961334, 40.764912, 68, 201300000610\n",
      "Expected: 68 but found: 6\n",
      "CSV file: file:///home/jovyan/data2.csv\n",
      "22/03/26 09:18:33 WARN CSVHeaderChecker: CSV header does not conform to the schema.\n",
      " Header: -73.866135, 40.771091, -73.961334, 40.764912, 6, 2013000006\n",
      " Schema: -73.866135, 40.771091, -73.961334, 40.764912, 68, 201300000610\n",
      "Expected: 68 but found: 6\n",
      "CSV file: file:///home/jovyan/data2.csv\n",
      "22/03/26 09:18:33 WARN CSVHeaderChecker: CSV header does not conform to the schema.\n",
      " Header: -73.866135, 40.771091, -73.961334, 40.764912, 6, 2013000006\n",
      " Schema: -73.866135, 40.771091, -73.961334, 40.764912, 68, 201300000610\n",
      "Expected: 68 but found: 6\n",
      "CSV file: file:///home/jovyan/data2.csv\n",
      "22/03/26 09:18:34 WARN CSVHeaderChecker: CSV header does not conform to the schema.\n",
      " Header: -73.866135, 40.771091, -73.961334, 40.764912, 6, 2013000006\n",
      " Schema: -73.866135, 40.771091, -73.961334, 40.764912, 68, 201300000610\n",
      "Expected: 68 but found: 6\n",
      "CSV file: file:///home/jovyan/data2.csv\n"
     ]
    },
    {
     "name": "stdout",
     "output_type": "stream",
     "text": [
      "Silhouette Score: 0.31750487865325616\n"
     ]
    },
    {
     "name": "stderr",
     "output_type": "stream",
     "text": [
      "22/03/26 09:18:35 WARN CSVHeaderChecker: CSV header does not conform to the schema.\n",
      " Header: -73.866135, 40.771091, -73.961334, 40.764912, 6, 2013000006\n",
      " Schema: -73.866135, 40.771091, -73.961334, 40.764912, 68, 201300000610\n",
      "Expected: 68 but found: 6\n",
      "CSV file: file:///home/jovyan/data2.csv\n",
      "22/03/26 09:18:35 WARN CSVHeaderChecker: CSV header does not conform to the schema.\n",
      " Header: -73.866135, 40.771091, -73.961334, 40.764912, 6, 2013000006\n",
      " Schema: -73.866135, 40.771091, -73.961334, 40.764912, 68, 201300000610\n",
      "Expected: 68 but found: 6\n",
      "CSV file: file:///home/jovyan/data2.csv\n",
      "22/03/26 09:18:36 WARN CSVHeaderChecker: CSV header does not conform to the schema.\n",
      " Header: -73.866135, 40.771091, -73.961334, 40.764912, 6, 2013000006\n",
      " Schema: -73.866135, 40.771091, -73.961334, 40.764912, 68, 201300000610\n",
      "Expected: 68 but found: 6\n",
      "CSV file: file:///home/jovyan/data2.csv\n",
      "22/03/26 09:18:37 WARN CSVHeaderChecker: CSV header does not conform to the schema.\n",
      " Header: -73.866135, 40.771091, -73.961334, 40.764912, 6, 2013000006\n",
      " Schema: -73.866135, 40.771091, -73.961334, 40.764912, 68, 201300000610\n",
      "Expected: 68 but found: 6\n",
      "CSV file: file:///home/jovyan/data2.csv\n",
      "22/03/26 09:18:38 WARN CSVHeaderChecker: CSV header does not conform to the schema.\n",
      " Header: -73.866135, 40.771091, -73.961334, 40.764912, 6, 2013000006\n",
      " Schema: -73.866135, 40.771091, -73.961334, 40.764912, 68, 201300000610\n",
      "Expected: 68 but found: 6\n",
      "CSV file: file:///home/jovyan/data2.csv\n"
     ]
    },
    {
     "name": "stdout",
     "output_type": "stream",
     "text": [
      "Silhouette Score: 0.4145620697532567\n"
     ]
    },
    {
     "name": "stderr",
     "output_type": "stream",
     "text": [
      "22/03/26 09:18:38 WARN CSVHeaderChecker: CSV header does not conform to the schema.\n",
      " Header: -73.866135, 40.771091, -73.961334, 40.764912, 6, 2013000006\n",
      " Schema: -73.866135, 40.771091, -73.961334, 40.764912, 68, 201300000610\n",
      "Expected: 68 but found: 6\n",
      "CSV file: file:///home/jovyan/data2.csv\n",
      "22/03/26 09:18:38 WARN CSVHeaderChecker: CSV header does not conform to the schema.\n",
      " Header: -73.866135, 40.771091, -73.961334, 40.764912, 6, 2013000006\n",
      " Schema: -73.866135, 40.771091, -73.961334, 40.764912, 68, 201300000610\n",
      "Expected: 68 but found: 6\n",
      "CSV file: file:///home/jovyan/data2.csv\n",
      "22/03/26 09:18:41 WARN CSVHeaderChecker: CSV header does not conform to the schema.\n",
      " Header: -73.866135, 40.771091, -73.961334, 40.764912, 6, 2013000006\n",
      " Schema: -73.866135, 40.771091, -73.961334, 40.764912, 68, 201300000610\n",
      "Expected: 68 but found: 6\n",
      "CSV file: file:///home/jovyan/data2.csv\n",
      "22/03/26 09:18:41 WARN CSVHeaderChecker: CSV header does not conform to the schema.\n",
      " Header: -73.866135, 40.771091, -73.961334, 40.764912, 6, 2013000006\n",
      " Schema: -73.866135, 40.771091, -73.961334, 40.764912, 68, 201300000610\n",
      "Expected: 68 but found: 6\n",
      "CSV file: file:///home/jovyan/data2.csv\n",
      "22/03/26 09:18:42 WARN CSVHeaderChecker: CSV header does not conform to the schema.\n",
      " Header: -73.866135, 40.771091, -73.961334, 40.764912, 6, 2013000006\n",
      " Schema: -73.866135, 40.771091, -73.961334, 40.764912, 68, 201300000610\n",
      "Expected: 68 but found: 6\n",
      "CSV file: file:///home/jovyan/data2.csv\n"
     ]
    },
    {
     "name": "stdout",
     "output_type": "stream",
     "text": [
      "Silhouette Score: 0.41348250093050887\n"
     ]
    },
    {
     "name": "stderr",
     "output_type": "stream",
     "text": [
      "22/03/26 09:18:43 WARN CSVHeaderChecker: CSV header does not conform to the schema.\n",
      " Header: -73.866135, 40.771091, -73.961334, 40.764912, 6, 2013000006\n",
      " Schema: -73.866135, 40.771091, -73.961334, 40.764912, 68, 201300000610\n",
      "Expected: 68 but found: 6\n",
      "CSV file: file:///home/jovyan/data2.csv\n",
      "22/03/26 09:18:43 WARN CSVHeaderChecker: CSV header does not conform to the schema.\n",
      " Header: -73.866135, 40.771091, -73.961334, 40.764912, 6, 2013000006\n",
      " Schema: -73.866135, 40.771091, -73.961334, 40.764912, 68, 201300000610\n",
      "Expected: 68 but found: 6\n",
      "CSV file: file:///home/jovyan/data2.csv\n",
      "22/03/26 09:18:46 WARN CSVHeaderChecker: CSV header does not conform to the schema.\n",
      " Header: -73.866135, 40.771091, -73.961334, 40.764912, 6, 2013000006\n",
      " Schema: -73.866135, 40.771091, -73.961334, 40.764912, 68, 201300000610\n",
      "Expected: 68 but found: 6\n",
      "CSV file: file:///home/jovyan/data2.csv\n",
      "22/03/26 09:18:46 WARN CSVHeaderChecker: CSV header does not conform to the schema.\n",
      " Header: -73.866135, 40.771091, -73.961334, 40.764912, 6, 2013000006\n",
      " Schema: -73.866135, 40.771091, -73.961334, 40.764912, 68, 201300000610\n",
      "Expected: 68 but found: 6\n",
      "CSV file: file:///home/jovyan/data2.csv\n"
     ]
    },
    {
     "name": "stdout",
     "output_type": "stream",
     "text": [
      "Silhouette Score: 0.4215738870557154\n"
     ]
    },
    {
     "name": "stderr",
     "output_type": "stream",
     "text": [
      "22/03/26 09:18:47 WARN CSVHeaderChecker: CSV header does not conform to the schema.\n",
      " Header: -73.866135, 40.771091, -73.961334, 40.764912, 6, 2013000006\n",
      " Schema: -73.866135, 40.771091, -73.961334, 40.764912, 68, 201300000610\n",
      "Expected: 68 but found: 6\n",
      "CSV file: file:///home/jovyan/data2.csv\n"
     ]
    }
   ],
   "source": [
    "from pyspark.ml.clustering import KMeans\n",
    "from pyspark.ml.evaluation import ClusteringEvaluator\n",
    "silhouette_score=[]\n",
    "evaluator = ClusteringEvaluator(predictionCol='prediction', featuresCol='standardized', \\\n",
    "                                metricName='silhouette', distanceMeasure='squaredEuclidean')\n",
    "for i in range(2,10):\n",
    "    \n",
    "    KMeans_algo=KMeans(featuresCol='standardized', k=i)\n",
    "    \n",
    "    KMeans_fit=KMeans_algo.fit(data_scale_output)\n",
    "    \n",
    "    output=KMeans_fit.transform(data_scale_output)\n",
    "    \n",
    "    \n",
    "    \n",
    "    score=evaluator.evaluate(output)\n",
    "    \n",
    "    silhouette_score.append(score)\n",
    "    \n",
    "    print(\"Silhouette Score:\",score)"
   ]
  },
  {
   "cell_type": "markdown",
   "id": "b3e9ccfd-23f1-4c32-8f09-c2195ded38af",
   "metadata": {},
   "source": [
    "### - plot Silhouette:"
   ]
  },
  {
   "cell_type": "code",
   "execution_count": 75,
   "id": "39863aaa-db03-453c-8688-5373684633ab",
   "metadata": {},
   "outputs": [
    {
     "data": {
      "text/plain": [
       "Text(0, 0.5, 'cost')"
      ]
     },
     "execution_count": 75,
     "metadata": {},
     "output_type": "execute_result"
    },
    {
     "data": {
      "image/png": "[encoded data removed]",
      "text/plain": [
       "<Figure size 576x432 with 1 Axes>"
      ]
     },
     "metadata": {
      "needs_background": "light"
     },
     "output_type": "display_data"
    }
   ],
   "source": [
    "#Visualizing the silhouette scores in a plot\n",
    "import matplotlib.pyplot as plt\n",
    "fig, ax = plt.subplots(1,1, figsize =(8,6))\n",
    "ax.plot(range(2,10),silhouette_score)\n",
    "ax.set_xlabel('k')\n",
    "ax.set_ylabel('cost')"
   ]
  },
  {
   "cell_type": "markdown",
   "id": "fce7ccbc-9daf-4f47-b364-aaa5c659eb53",
   "metadata": {},
   "source": [
    "D'après le plot de la silouette, nous constatons que le k-optimal est k=3"
   ]
  },
  {
   "cell_type": "markdown",
   "id": "d1c2e46a-7b1a-498f-bd46-84e733eaa23b",
   "metadata": {},
   "source": [
    "Merci pour cette partie de cours qui nous a permis d'acquérir des connaissances et des compétences sur spark"
   ]
  },
  {
   "cell_type": "code",
   "execution_count": null,
   "id": "4e5eaab6-12d2-43a7-bed7-eb594986c99a",
   "metadata": {},
   "outputs": [],
   "source": []
  }
 ],
 "metadata": {
  "kernelspec": {
   "display_name": "Python 3 (ipykernel)",
   "language": "python",
   "name": "python3"
  },
  "language_info": {
   "codemirror_mode": {
    "name": "ipython",
    "version": 3
   },
   "file_extension": ".py",
   "mimetype": "text/x-python",
   "name": "python",
   "nbconvert_exporter": "python",
   "pygments_lexer": "ipython3",
   "version": "3.9.7"
  }
 },
 "nbformat": 4,
 "nbformat_minor": 5
}
